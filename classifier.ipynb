{
 "cells": [
  {
   "cell_type": "code",
   "execution_count": null,
   "metadata": {
    "id": "dWklCj0CbvW4"
   },
   "outputs": [],
   "source": [
    "import torch, os\n",
    "import pandas as pd\n",
    "from transformers import pipeline, BertForSequenceClassification, BertTokenizerFast\n",
    "from torch.utils.data import Dataset"
   ]
  },
  {
   "cell_type": "code",
   "execution_count": null,
   "metadata": {
    "colab": {
     "base_uri": "https://localhost:8080/",
     "height": 35
    },
    "id": "JM4-_7Ho6Mc5",
    "outputId": "0402734b-a791-4838-84e1-97a4cbc28bd1"
   },
   "outputs": [
    {
     "data": {
      "application/vnd.google.colaboratory.intrinsic+json": {
       "type": "string"
      },
      "text/plain": [
       "'cuda'"
      ]
     },
     "execution_count": 2,
     "metadata": {},
     "output_type": "execute_result"
    }
   ],
   "source": [
    "from torch import cuda\n",
    "device = 'cuda' if cuda.is_available() else 'cpu'\n",
    "device"
   ]
  },
  {
   "cell_type": "code",
   "execution_count": null,
   "metadata": {
    "id": "kdoAM7DmdgHi"
   },
   "outputs": [],
   "source": [
    "df = pd.read_csv('/content/YT-titles-transcripts-clean(1).csv')"
   ]
  },
  {
   "cell_type": "code",
   "execution_count": null,
   "metadata": {
    "colab": {
     "base_uri": "https://localhost:8080/",
     "height": 625
    },
    "id": "qkCoG4IUdkjI",
    "outputId": "c832fe72-b2e9-45de-e689-b5c2913fd4d8"
   },
   "outputs": [
    {
     "data": {
      "application/vnd.google.colaboratory.intrinsic+json": {
       "summary": "{\n  \"name\": \"df\",\n  \"rows\": 18134,\n  \"fields\": [\n    {\n      \"column\": \"vid_id\",\n      \"properties\": {\n        \"dtype\": \"string\",\n        \"num_unique_values\": 17885,\n        \"samples\": [\n          \"aL-DXBXuT7M\",\n          \"CmOVDKjAYHA\",\n          \"qa8kpX__6xY\"\n        ],\n        \"semantic_type\": \"\",\n        \"description\": \"\"\n      }\n    },\n    {\n      \"column\": \"title\",\n      \"properties\": {\n        \"dtype\": \"string\",\n        \"num_unique_values\": 17877,\n        \"samples\": [\n          \"How to Make Fresh Ginger Turmeric Juice Shots the Cheap WAY!\",\n          \"Twice Baked Sweet Potatoes ~ Chipotle Pecan Streusel ~ Make Ahead Thanksgiving ~ Noreen's Kitchen\",\n          \"What is Causing Your Shoulder Pain? Tests You Can Do Yourself.\"\n        ],\n        \"semantic_type\": \"\",\n        \"description\": \"\"\n      }\n    },\n    {\n      \"column\": \"transcript\",\n      \"properties\": {\n        \"dtype\": \"string\",\n        \"num_unique_values\": 17879,\n        \"samples\": [\n          \"If you were the popcorn, I would be the movie If you were strawberries then, I would be the smoothie If you were October, I'd be apple cider And if you were the waffle fries Then, I would be the slider. Cause you and me, we make each other better. We may not be perfect but we're perfect together You and me, we'll make it through whatever, We may not be perfect but we're perfect together da da da, da da da da, da da da da, da da da If you were Sunday brunch, I'd be eggs and bacon. If you were hot chocolate, I'd be the winter night you stay in. If you were a candy, I would be the wrapper. And if you were marshmallows then, I'd be the graham cracker Cause you and me we make each other better We may not be perfect but we're perfect together You and me we'll make it through whatever We may not be perfect but we're perfect together What's the point of apple pie, Without the ice cream on the side? That'd be like not having you tonight. And what's the point of a fondue, Without the chocolate too? That'd be like me not having you. Da da da, da da da da, da da da, da da da da, da da da Cause you and me we make each other better, We may not be perfect but we're perfect together. You and me we'll make it through whatever, We may not be perfect but we're perfect together. Da da da, da da da da, da da da da, da da da Da da da, da da da da,\",\n          \"Text Messaging: Send a Text Message. From the home screen, select the Messaging app. To compose a message, select the Compose icon; enter the desired phone number or contact. To enter additional phone numbers, from the recipients field, enter the desired additional numbers or contacts. To remove a recipient, select the desired recipient; then select \\\"Remove\\\". Select the message field; then enter the desired message. To use speech-to-text, select the Microphone icon; then say the desired message; select the \\\"X\\\" icon when finished. To add an attachment, select the Attach icon; navigate to, and select, the desired attachment; select the Send icon. Read a Text Message. When a new text message is received, you will see the Text Message icon in the notification bar. From the Messaging app, select the desired message thread. To view an attachment, select the desired attachment. To save the attachment, select the Download icon. To reply to a text message, select the message field, and enter the desired message; select the Send icon. Forward a Text Message. To forward a message, from the thread, select and hold the desired message; select \\\"Forward\\\"; then follow the same steps to send a text message. Delete a Text Message. To delete a message, from the thread, select and hold the desired message; select \\\"Delete\\\"; select \\\"DELETE\\\" to confirm. To delete a message thread, from the Messaging app, select the Delete icon; select the desired message threads; then select \\\"DELETE\\\"; select \\\"DELETE\\\" to confirm. Block Text Messages. To block a number from the Messaging app, select the Menu icon; then select \\\"Settings\\\"; select \\\"Message blocking\\\"; select \\\"Blocked numbers\\\"; select the Add \\\"+\\\" icon; choose the desired number or contact. To unblock a number, from the blocked numbers list, select the Delete icon; select the desired contact to unblock; then select \\\"REMOVE\\\"; select \\\"REMOVE\\\" to confirm. [\\u266aAT&amp;T jingle\\u266a]\",\n          \" Uh, not requiring the addition of a coming game This is a product of the 4pk deputy old lady Tully. Let me see. In the case where the sound is obtained by this way [music] It's not brown anymore. It is suggested that residents come out separately from each other. Nowadays, I have had poor money and now I have something to capture ht Launching Seo Taiji going back to Taiwan 5 deliver such a success and I think the other returning And all games add one to do after January I still believe in the mind of the game, When you add a gamer, you have some Geneva fur. The base base is not going to be the least. Bucks Popularity roll cherish the story because the goal It just got a little game that the total loss jjokkeum Those games, colleagues , I'm gonna do a tight dildo, the same champion. That's it. [music] 5 Ah Well if you plan on this monitor panel It supports Auto Sync, but if the screen is cut off April's way out Let's test it with the frame david player. Image quality Now the star method itself I do not think there's a Tuya filter . Hadeora the sound seems no break line break except the pool U [music] U [music] I do not know why it's easy to feel a bit Some of the games included itjyo the difference that the correct stickers l like seconds You 'll like straight. Team line is easy in fact the player can not contain all show why dwaetneunde If you are on a PC basis, Would you like to use it or not ? [music] Nevertheless , I'll try a few things on my neck . Purple The things you can buy are left out of the game . I do not know. It's so much softer . Well, let's just put it right there. U Ah How Not after lately Ginger mother haebolkkayo Pro Viewer when required 2 game page you've Games Ah All these characters are nowadays . Wolsong it the way it harder for the tragedy Go to the bastard and take it to him. That is able to escape that you do not touch because you can see the shape is easy to see Please're unknown Oh, if you give me a challenge , I had a cracker. Paul's evangelism It may drop the frame Coming flying to eat should come inside minutes Ah Team itself did not hear the atmospheres in the game even further apart, not like deuneunge 3 In the case of full-scale, As a gel type among the smoke systems, you can pass it. I checked with some acorns. I do not think there's a difference between going to j [music] I used to be old but now North Korea poured it down 4 We do so while the eye has seen more game preparation Gonna friends Zorro 5 Display Let's go. Let's go. It is. So I gave them the theories so I got the text on the bus. [music] I think it's called release . Stark's another advantage to five Because my colleagues are a bit like rt Lack of caution may be the reason for this. I think that is the number of points that use the environment disappear PS agency criticized Jotgetjyo color shadow I also eat kalguksu saw It 's been a while . 3 faucet guy like that I'm coming out to see if you want to bring it in. I am working hard for the third time. woo o2 mangled yes Originally this game these things U U I do not know as soon as I get up. [music] I think we should use it like that. Oh, we typically see more together and play something a little more original game Diva Itself Bump in the r &amp; d 2 is also in the arms of the mind from understanding the game neukkyeojim The sins of the things being called, It is the same It's not like that. It would be nice. The 4 st tanker is originally a bomb. But when he comes out, he gets cry when he gets down. Some do not cry, but I'm sure that in Certainly drop frame gwaenchanneyo more games The frame is a little wrinkle naturally again If you watch a video, If you like kmf, you have a lot of tangible images to introduce, but here too I stand useless It's still a little more shaped than it is. this Phantom that time comes This is a new game rather than a new game. I will. It's just a joke, but it's just a joke. I wonder what it would be like to be able to stretch the game. It's a little bit. 4 And those who are right What happens when the gun is used to change the bottom potato There is a word to the game than I thought of the law 4 So what do you do to put a lot more into the ministry 5 I have a feeling that if you actually eat it and wake up , I put it at 54. Next to the performance-based 3-iron point, you'll still be busy playing whats game So now there's no limit. We have a bit of a drawback, but I'll tell you what we have to give. 2 according to the purpose You did must purchase a subscription you will now anyway, and the game is ready Then it's Wednesday after the break-up material contract I 'll see you die . There is a self-exposition on the main spindle. Originally a test of humbly simply testing I'll finish here.  [music] \"\n        ],\n        \"semantic_type\": \"\",\n        \"description\": \"\"\n      }\n    },\n    {\n      \"column\": \"category_1\",\n      \"properties\": {\n        \"dtype\": \"category\",\n        \"num_unique_values\": 18,\n        \"samples\": [\n          \"Food and Entertaining\",\n          \"Hobbies and Crafts\",\n          \"Philosophy and Religion\"\n        ],\n        \"semantic_type\": \"\",\n        \"description\": \"\"\n      }\n    },\n    {\n      \"column\": \"category_2\",\n      \"properties\": {\n        \"dtype\": \"category\",\n        \"num_unique_values\": 129,\n        \"samples\": [\n          \"Trucks\",\n          \"Medication and Medical Equipment\",\n          \"Halloween\"\n        ],\n        \"semantic_type\": \"\",\n        \"description\": \"\"\n      }\n    },\n    {\n      \"column\": \"task_id\",\n      \"properties\": {\n        \"dtype\": \"string\",\n        \"num_unique_values\": 9407,\n        \"samples\": [\n          \"Boil Water\",\n          \"Make a Locura Cocktail\",\n          \"Make Super Energetic Smoothies\"\n        ],\n        \"semantic_type\": \"\",\n        \"description\": \"\"\n      }\n    },\n    {\n      \"column\": \"punctuated\",\n      \"properties\": {\n        \"dtype\": \"boolean\",\n        \"num_unique_values\": 1,\n        \"samples\": [\n          true\n        ],\n        \"semantic_type\": \"\",\n        \"description\": \"\"\n      }\n    },\n    {\n      \"column\": \"transcript_num_chars\",\n      \"properties\": {\n        \"dtype\": \"number\",\n        \"std\": 5242,\n        \"min\": 407,\n        \"max\": 41298,\n        \"num_unique_values\": 10096,\n        \"samples\": [\n          6337\n        ],\n        \"semantic_type\": \"\",\n        \"description\": \"\"\n      }\n    },\n    {\n      \"column\": \"default_language\",\n      \"properties\": {\n        \"dtype\": \"category\",\n        \"num_unique_values\": 6,\n        \"samples\": [\n          \"en\"\n        ],\n        \"semantic_type\": \"\",\n        \"description\": \"\"\n      }\n    },\n    {\n      \"column\": \"default_audio_language\",\n      \"properties\": {\n        \"dtype\": \"category\",\n        \"num_unique_values\": 5,\n        \"samples\": [\n          \"en-GB\"\n        ],\n        \"semantic_type\": \"\",\n        \"description\": \"\"\n      }\n    }\n  ]\n}",
       "type": "dataframe",
       "variable_name": "df"
      },
      "text/html": [
       "\n",
       "  <div id=\"df-44896845-ef40-46c6-bfae-bbee563c6820\" class=\"colab-df-container\">\n",
       "    <div>\n",
       "<style scoped>\n",
       "    .dataframe tbody tr th:only-of-type {\n",
       "        vertical-align: middle;\n",
       "    }\n",
       "\n",
       "    .dataframe tbody tr th {\n",
       "        vertical-align: top;\n",
       "    }\n",
       "\n",
       "    .dataframe thead th {\n",
       "        text-align: right;\n",
       "    }\n",
       "</style>\n",
       "<table border=\"1\" class=\"dataframe\">\n",
       "  <thead>\n",
       "    <tr style=\"text-align: right;\">\n",
       "      <th></th>\n",
       "      <th>vid_id</th>\n",
       "      <th>title</th>\n",
       "      <th>transcript</th>\n",
       "      <th>category_1</th>\n",
       "      <th>category_2</th>\n",
       "      <th>task_id</th>\n",
       "      <th>punctuated</th>\n",
       "      <th>transcript_num_chars</th>\n",
       "      <th>default_language</th>\n",
       "      <th>default_audio_language</th>\n",
       "    </tr>\n",
       "  </thead>\n",
       "  <tbody>\n",
       "    <tr>\n",
       "      <th>0</th>\n",
       "      <td>_jo1UnkkD-A</td>\n",
       "      <td>The Best Game Controller</td>\n",
       "      <td>- Hey, guys, this is Austin. So there are a to...</td>\n",
       "      <td>Food and Entertaining</td>\n",
       "      <td>Recipes</td>\n",
       "      <td>Make Game Controller Cookies</td>\n",
       "      <td>True</td>\n",
       "      <td>10350</td>\n",
       "      <td>en</td>\n",
       "      <td>en</td>\n",
       "    </tr>\n",
       "    <tr>\n",
       "      <th>1</th>\n",
       "      <td>30mzPmm7gvg</td>\n",
       "      <td>CANDY BAR CONTROLLERS - NERDY NUMMIES</td>\n",
       "      <td>Hey guys, it’s Ro! Welcome to another Nerdy Nu...</td>\n",
       "      <td>Food and Entertaining</td>\n",
       "      <td>Recipes</td>\n",
       "      <td>Make Game Controller Cookies</td>\n",
       "      <td>True</td>\n",
       "      <td>4181</td>\n",
       "      <td>en</td>\n",
       "      <td>en</td>\n",
       "    </tr>\n",
       "    <tr>\n",
       "      <th>2</th>\n",
       "      <td>evQsOFQju08</td>\n",
       "      <td>Is Your Red The Same as My Red?</td>\n",
       "      <td>Hey, Vsauce. Michael here. This appears blue. ...</td>\n",
       "      <td>Hobbies and Crafts</td>\n",
       "      <td>Crafts</td>\n",
       "      <td>Make Deep Yellow Colored Water from Saffron</td>\n",
       "      <td>True</td>\n",
       "      <td>7190</td>\n",
       "      <td>en</td>\n",
       "      <td>en</td>\n",
       "    </tr>\n",
       "    <tr>\n",
       "      <th>3</th>\n",
       "      <td>-ToIM0aREY8</td>\n",
       "      <td>Make Bright Christmas Ornaments in a Minute</td>\n",
       "      <td>In a previous video we learned how to make the...</td>\n",
       "      <td>Hobbies and Crafts</td>\n",
       "      <td>Crafts</td>\n",
       "      <td>Make a Metallic and Paper Christmas Star</td>\n",
       "      <td>True</td>\n",
       "      <td>1424</td>\n",
       "      <td>en</td>\n",
       "      <td>en</td>\n",
       "    </tr>\n",
       "    <tr>\n",
       "      <th>4</th>\n",
       "      <td>GsJpF0edPxw</td>\n",
       "      <td>10 Rubbing Alcohol Life Hacks You Need To Know</td>\n",
       "      <td>- Do you instinctively reach for the rubbing a...</td>\n",
       "      <td>Hobbies and Crafts</td>\n",
       "      <td>Crafts</td>\n",
       "      <td>Clean with Rubbing Alcohol</td>\n",
       "      <td>True</td>\n",
       "      <td>9102</td>\n",
       "      <td>en</td>\n",
       "      <td>en</td>\n",
       "    </tr>\n",
       "  </tbody>\n",
       "</table>\n",
       "</div>\n",
       "    <div class=\"colab-df-buttons\">\n",
       "\n",
       "  <div class=\"colab-df-container\">\n",
       "    <button class=\"colab-df-convert\" onclick=\"convertToInteractive('df-44896845-ef40-46c6-bfae-bbee563c6820')\"\n",
       "            title=\"Convert this dataframe to an interactive table.\"\n",
       "            style=\"display:none;\">\n",
       "\n",
       "  <svg xmlns=\"http://www.w3.org/2000/svg\" height=\"24px\" viewBox=\"0 -960 960 960\">\n",
       "    <path d=\"M120-120v-720h720v720H120Zm60-500h600v-160H180v160Zm220 220h160v-160H400v160Zm0 220h160v-160H400v160ZM180-400h160v-160H180v160Zm440 0h160v-160H620v160ZM180-180h160v-160H180v160Zm440 0h160v-160H620v160Z\"/>\n",
       "  </svg>\n",
       "    </button>\n",
       "\n",
       "  <style>\n",
       "    .colab-df-container {\n",
       "      display:flex;\n",
       "      gap: 12px;\n",
       "    }\n",
       "\n",
       "    .colab-df-convert {\n",
       "      background-color: #E8F0FE;\n",
       "      border: none;\n",
       "      border-radius: 50%;\n",
       "      cursor: pointer;\n",
       "      display: none;\n",
       "      fill: #1967D2;\n",
       "      height: 32px;\n",
       "      padding: 0 0 0 0;\n",
       "      width: 32px;\n",
       "    }\n",
       "\n",
       "    .colab-df-convert:hover {\n",
       "      background-color: #E2EBFA;\n",
       "      box-shadow: 0px 1px 2px rgba(60, 64, 67, 0.3), 0px 1px 3px 1px rgba(60, 64, 67, 0.15);\n",
       "      fill: #174EA6;\n",
       "    }\n",
       "\n",
       "    .colab-df-buttons div {\n",
       "      margin-bottom: 4px;\n",
       "    }\n",
       "\n",
       "    [theme=dark] .colab-df-convert {\n",
       "      background-color: #3B4455;\n",
       "      fill: #D2E3FC;\n",
       "    }\n",
       "\n",
       "    [theme=dark] .colab-df-convert:hover {\n",
       "      background-color: #434B5C;\n",
       "      box-shadow: 0px 1px 3px 1px rgba(0, 0, 0, 0.15);\n",
       "      filter: drop-shadow(0px 1px 2px rgba(0, 0, 0, 0.3));\n",
       "      fill: #FFFFFF;\n",
       "    }\n",
       "  </style>\n",
       "\n",
       "    <script>\n",
       "      const buttonEl =\n",
       "        document.querySelector('#df-44896845-ef40-46c6-bfae-bbee563c6820 button.colab-df-convert');\n",
       "      buttonEl.style.display =\n",
       "        google.colab.kernel.accessAllowed ? 'block' : 'none';\n",
       "\n",
       "      async function convertToInteractive(key) {\n",
       "        const element = document.querySelector('#df-44896845-ef40-46c6-bfae-bbee563c6820');\n",
       "        const dataTable =\n",
       "          await google.colab.kernel.invokeFunction('convertToInteractive',\n",
       "                                                    [key], {});\n",
       "        if (!dataTable) return;\n",
       "\n",
       "        const docLinkHtml = 'Like what you see? Visit the ' +\n",
       "          '<a target=\"_blank\" href=https://colab.research.google.com/notebooks/data_table.ipynb>data table notebook</a>'\n",
       "          + ' to learn more about interactive tables.';\n",
       "        element.innerHTML = '';\n",
       "        dataTable['output_type'] = 'display_data';\n",
       "        await google.colab.output.renderOutput(dataTable, element);\n",
       "        const docLink = document.createElement('div');\n",
       "        docLink.innerHTML = docLinkHtml;\n",
       "        element.appendChild(docLink);\n",
       "      }\n",
       "    </script>\n",
       "  </div>\n",
       "\n",
       "\n",
       "<div id=\"df-6b0a67b3-6c3e-4ba0-9be8-503365318807\">\n",
       "  <button class=\"colab-df-quickchart\" onclick=\"quickchart('df-6b0a67b3-6c3e-4ba0-9be8-503365318807')\"\n",
       "            title=\"Suggest charts\"\n",
       "            style=\"display:none;\">\n",
       "\n",
       "<svg xmlns=\"http://www.w3.org/2000/svg\" height=\"24px\"viewBox=\"0 0 24 24\"\n",
       "     width=\"24px\">\n",
       "    <g>\n",
       "        <path d=\"M19 3H5c-1.1 0-2 .9-2 2v14c0 1.1.9 2 2 2h14c1.1 0 2-.9 2-2V5c0-1.1-.9-2-2-2zM9 17H7v-7h2v7zm4 0h-2V7h2v10zm4 0h-2v-4h2v4z\"/>\n",
       "    </g>\n",
       "</svg>\n",
       "  </button>\n",
       "\n",
       "<style>\n",
       "  .colab-df-quickchart {\n",
       "      --bg-color: #E8F0FE;\n",
       "      --fill-color: #1967D2;\n",
       "      --hover-bg-color: #E2EBFA;\n",
       "      --hover-fill-color: #174EA6;\n",
       "      --disabled-fill-color: #AAA;\n",
       "      --disabled-bg-color: #DDD;\n",
       "  }\n",
       "\n",
       "  [theme=dark] .colab-df-quickchart {\n",
       "      --bg-color: #3B4455;\n",
       "      --fill-color: #D2E3FC;\n",
       "      --hover-bg-color: #434B5C;\n",
       "      --hover-fill-color: #FFFFFF;\n",
       "      --disabled-bg-color: #3B4455;\n",
       "      --disabled-fill-color: #666;\n",
       "  }\n",
       "\n",
       "  .colab-df-quickchart {\n",
       "    background-color: var(--bg-color);\n",
       "    border: none;\n",
       "    border-radius: 50%;\n",
       "    cursor: pointer;\n",
       "    display: none;\n",
       "    fill: var(--fill-color);\n",
       "    height: 32px;\n",
       "    padding: 0;\n",
       "    width: 32px;\n",
       "  }\n",
       "\n",
       "  .colab-df-quickchart:hover {\n",
       "    background-color: var(--hover-bg-color);\n",
       "    box-shadow: 0 1px 2px rgba(60, 64, 67, 0.3), 0 1px 3px 1px rgba(60, 64, 67, 0.15);\n",
       "    fill: var(--button-hover-fill-color);\n",
       "  }\n",
       "\n",
       "  .colab-df-quickchart-complete:disabled,\n",
       "  .colab-df-quickchart-complete:disabled:hover {\n",
       "    background-color: var(--disabled-bg-color);\n",
       "    fill: var(--disabled-fill-color);\n",
       "    box-shadow: none;\n",
       "  }\n",
       "\n",
       "  .colab-df-spinner {\n",
       "    border: 2px solid var(--fill-color);\n",
       "    border-color: transparent;\n",
       "    border-bottom-color: var(--fill-color);\n",
       "    animation:\n",
       "      spin 1s steps(1) infinite;\n",
       "  }\n",
       "\n",
       "  @keyframes spin {\n",
       "    0% {\n",
       "      border-color: transparent;\n",
       "      border-bottom-color: var(--fill-color);\n",
       "      border-left-color: var(--fill-color);\n",
       "    }\n",
       "    20% {\n",
       "      border-color: transparent;\n",
       "      border-left-color: var(--fill-color);\n",
       "      border-top-color: var(--fill-color);\n",
       "    }\n",
       "    30% {\n",
       "      border-color: transparent;\n",
       "      border-left-color: var(--fill-color);\n",
       "      border-top-color: var(--fill-color);\n",
       "      border-right-color: var(--fill-color);\n",
       "    }\n",
       "    40% {\n",
       "      border-color: transparent;\n",
       "      border-right-color: var(--fill-color);\n",
       "      border-top-color: var(--fill-color);\n",
       "    }\n",
       "    60% {\n",
       "      border-color: transparent;\n",
       "      border-right-color: var(--fill-color);\n",
       "    }\n",
       "    80% {\n",
       "      border-color: transparent;\n",
       "      border-right-color: var(--fill-color);\n",
       "      border-bottom-color: var(--fill-color);\n",
       "    }\n",
       "    90% {\n",
       "      border-color: transparent;\n",
       "      border-bottom-color: var(--fill-color);\n",
       "    }\n",
       "  }\n",
       "</style>\n",
       "\n",
       "  <script>\n",
       "    async function quickchart(key) {\n",
       "      const quickchartButtonEl =\n",
       "        document.querySelector('#' + key + ' button');\n",
       "      quickchartButtonEl.disabled = true;  // To prevent multiple clicks.\n",
       "      quickchartButtonEl.classList.add('colab-df-spinner');\n",
       "      try {\n",
       "        const charts = await google.colab.kernel.invokeFunction(\n",
       "            'suggestCharts', [key], {});\n",
       "      } catch (error) {\n",
       "        console.error('Error during call to suggestCharts:', error);\n",
       "      }\n",
       "      quickchartButtonEl.classList.remove('colab-df-spinner');\n",
       "      quickchartButtonEl.classList.add('colab-df-quickchart-complete');\n",
       "    }\n",
       "    (() => {\n",
       "      let quickchartButtonEl =\n",
       "        document.querySelector('#df-6b0a67b3-6c3e-4ba0-9be8-503365318807 button');\n",
       "      quickchartButtonEl.style.display =\n",
       "        google.colab.kernel.accessAllowed ? 'block' : 'none';\n",
       "    })();\n",
       "  </script>\n",
       "</div>\n",
       "\n",
       "    </div>\n",
       "  </div>\n"
      ],
      "text/plain": [
       "        vid_id                                           title  \\\n",
       "0  _jo1UnkkD-A                        The Best Game Controller   \n",
       "1  30mzPmm7gvg           CANDY BAR CONTROLLERS - NERDY NUMMIES   \n",
       "2  evQsOFQju08                 Is Your Red The Same as My Red?   \n",
       "3  -ToIM0aREY8     Make Bright Christmas Ornaments in a Minute   \n",
       "4  GsJpF0edPxw  10 Rubbing Alcohol Life Hacks You Need To Know   \n",
       "\n",
       "                                          transcript             category_1  \\\n",
       "0  - Hey, guys, this is Austin. So there are a to...  Food and Entertaining   \n",
       "1  Hey guys, it’s Ro! Welcome to another Nerdy Nu...  Food and Entertaining   \n",
       "2  Hey, Vsauce. Michael here. This appears blue. ...     Hobbies and Crafts   \n",
       "3  In a previous video we learned how to make the...     Hobbies and Crafts   \n",
       "4  - Do you instinctively reach for the rubbing a...     Hobbies and Crafts   \n",
       "\n",
       "  category_2                                      task_id  punctuated  \\\n",
       "0    Recipes                 Make Game Controller Cookies        True   \n",
       "1    Recipes                 Make Game Controller Cookies        True   \n",
       "2     Crafts  Make Deep Yellow Colored Water from Saffron        True   \n",
       "3     Crafts     Make a Metallic and Paper Christmas Star        True   \n",
       "4     Crafts                   Clean with Rubbing Alcohol        True   \n",
       "\n",
       "   transcript_num_chars default_language default_audio_language  \n",
       "0                 10350               en                     en  \n",
       "1                  4181               en                     en  \n",
       "2                  7190               en                     en  \n",
       "3                  1424               en                     en  \n",
       "4                  9102               en                     en  "
      ]
     },
     "execution_count": 5,
     "metadata": {},
     "output_type": "execute_result"
    }
   ],
   "source": [
    "df.head()"
   ]
  },
  {
   "cell_type": "code",
   "execution_count": null,
   "metadata": {
    "id": "e5CQ2FFudmAa"
   },
   "outputs": [],
   "source": [
    "\n",
    "\n",
    "category2_mapping = {\n",
    "    # Food & Cooking\n",
    "    'Recipes': 'Food & Cooking',\n",
    "    'Drinks': 'Food & Cooking',\n",
    "    'Care and Use of Cooking Equipment': 'Food & Cooking',\n",
    "    'Food Preparation': 'Food & Cooking',\n",
    "    'Holiday Cooking': 'Food & Cooking',\n",
    "    'Barbecue': 'Food & Cooking',\n",
    "    'Breakfast': 'Food & Cooking',\n",
    "    'Cooking for Children': 'Food & Cooking',\n",
    "    'Diet & Lifestyle': 'Food & Cooking',\n",
    "    'Appreciation of Food': 'Food & Cooking',\n",
    "\n",
    "    # Arts & Crafts\n",
    "    'Crafts': 'Arts & Crafts',\n",
    "    'Painting': 'Arts & Crafts',\n",
    "    'Sculpting': 'Arts & Crafts',\n",
    "    'Woodworking': 'Arts & Crafts',\n",
    "    'Model Making': 'Arts & Crafts',\n",
    "    'Digital Technology Art and Craft Projects': 'Arts & Crafts',\n",
    "\n",
    "    # Pets & Animals\n",
    "    'Cats': 'Pets & Animals',\n",
    "    'Dogs': 'Pets & Animals',\n",
    "    'Birds': 'Pets & Animals',\n",
    "    'Fish': 'Pets & Animals',\n",
    "    'Horses': 'Pets & Animals',\n",
    "    'Reptiles': 'Pets & Animals',\n",
    "    'Small and Furry': 'Pets & Animals',\n",
    "    'Rabbits': 'Pets & Animals',\n",
    "    'Wildlife': 'Pets & Animals',\n",
    "    'General Pet Health': 'Pets & Animals',\n",
    "    'Animal Rescue': 'Pets & Animals',\n",
    "    'Animal Welfare Activism': 'Pets & Animals',\n",
    "\n",
    "    # Health & Wellness\n",
    "    'Conditions and Treatments': 'Health & Wellness',\n",
    "    'Medication and Medical Equipment': 'Health & Wellness',\n",
    "    'Alternative Health': 'Health & Wellness',\n",
    "    'Emotional Health': 'Health & Wellness',\n",
    "    'Personal Hygiene': 'Health & Wellness',\n",
    "    'Grooming': 'Health & Wellness',\n",
    "    'Women’s Health': 'Health & Wellness',\n",
    "    \"Men's Health\": 'Health & Wellness',\n",
    "    'Health Hygiene': 'Health & Wellness',\n",
    "    'Health Care and Medical Information': 'Health & Wellness',\n",
    "\n",
    "    # Home & Lifestyle\n",
    "    'Home Improvements and Repairs': 'Home & Lifestyle',\n",
    "    'Housekeeping': 'Home & Lifestyle',\n",
    "    'Landscaping and Outdoor Building': 'Home & Lifestyle',\n",
    "    'Home Decorating': 'Home & Lifestyle',\n",
    "    'Gardening': 'Home & Lifestyle',\n",
    "    'Sustainable Living': 'Home & Lifestyle',\n",
    "    'Moving House and Packing': 'Home & Lifestyle',\n",
    "\n",
    "    # Sports & Fitness\n",
    "    'Team Sports': 'Sports & Fitness',\n",
    "    'Individual Sports': 'Sports & Fitness',\n",
    "    'Personal Fitness': 'Sports & Fitness',\n",
    "    'Vehicle Sports': 'Sports & Fitness',\n",
    "    'Swimming Pools Spas and Hot Tubs': 'Sports & Fitness',\n",
    "\n",
    "    # Technology\n",
    "    'Phones and Gadgets': 'Technology',\n",
    "    'Software': 'Technology',\n",
    "    'Networking': 'Technology',\n",
    "    'Hardware': 'Technology',\n",
    "    'Laptops': 'Technology',\n",
    "    'Optical Devices': 'Technology',\n",
    "    'TV and Home Audio': 'Technology',\n",
    "    'Digital Technology Art and Craft Projects': 'Technology',\n",
    "    'Amateur Radio': 'Technology',\n",
    "\n",
    "    # Vehicles\n",
    "    'Cars': 'Vehicles',\n",
    "    'Motorcycles': 'Vehicles',\n",
    "    'Bicycles': 'Vehicles',\n",
    "    'Trucks': 'Vehicles',\n",
    "    'Scooters': 'Vehicles',\n",
    "    'Trailers': 'Vehicles',\n",
    "    'Boats': 'Vehicles',\n",
    "    'Aviation': 'Vehicles',\n",
    "    'Off Road Vehicles': 'Vehicles',\n",
    "    'Recreational Vehicles': 'Vehicles',\n",
    "\n",
    "    # Holidays & Traditions\n",
    "    'Halloween': 'Holidays & Traditions',\n",
    "    'Easter': 'Holidays & Traditions',\n",
    "    'Christmas': 'Holidays & Traditions',\n",
    "    \"Saint Patrick's Day\": 'Holidays & Traditions',\n",
    "    'Valentines Day': 'Holidays & Traditions',\n",
    "    'Thanksgiving': 'Holidays & Traditions',\n",
    "    \"Mother's Day\": 'Holidays & Traditions',\n",
    "\n",
    "    # Other\n",
    "    'Books': 'Other',\n",
    "    'Writing': 'Other',\n",
    "    'Religion': 'Other',\n",
    "    'Occupations': 'Other',\n",
    "    'Performing Arts': 'Other',\n",
    "    'Movies': 'Other',\n",
    "    'Music': 'Other',\n",
    "    'Social Activism': 'Other',\n",
    "    'Disaster Preparedness': 'Other',\n",
    "    'Photography': 'Other',\n",
    "    'Flags': 'Other',\n",
    "    'Cosplay and Role Playing': 'Other',\n",
    "    'Boredom Busters': 'Other',\n",
    "    'Parenting': 'Other',\n",
    "    'Travel Tips': 'Other',\n",
    "    'Business': 'Other',\n",
    "    'Dining Etiquette': 'Other',\n",
    "    'Dining Out': 'Other',\n",
    "    'Gift Giving': 'Other',\n",
    "    'Fashion': 'Other',\n",
    "    'Carnivals Circuses and Theme Parks': 'Other',\n",
    "    'Presentations': 'Other',\n",
    "    'Speaking': 'Other',\n",
    "    'Emotional Health': 'Other',\n",
    "    'Bugs': 'Other',\n",
    "    'Crustaceans': 'Other',\n",
    "    'Amphibian': 'Other',\n",
    "    'Snails and Slugs': 'Other',\n",
    "    'General Pet Accessories': 'Other',\n",
    "    'Recreational Drug Use': 'Other',\n",
    "    'Injury and Accidents': 'Other',\n",
    "    'Tricks and Pranks': 'Other',\n",
    "    'Parties': 'Other',\n",
    "    'Costumes': 'Other',\n",
    "    'Flags': 'Other'\n",
    "}\n"
   ]
  },
  {
   "cell_type": "code",
   "execution_count": null,
   "metadata": {
    "id": "7tIMjHlVfAV8"
   },
   "outputs": [],
   "source": [
    "df['reduced_category'] = df['category_2'].map(category2_mapping).fillna('Other')\n"
   ]
  },
  {
   "cell_type": "code",
   "execution_count": null,
   "metadata": {
    "id": "MSpD2doMfiLj"
   },
   "outputs": [],
   "source": [
    "df_food = df[df['reduced_category'] == 'Food & Cooking']\n",
    "df_other = df[df['reduced_category'] != 'Food & Cooking']\n",
    "df_food_downsampled = df_food.sample(n=3000, random_state=42)\n",
    "df_balanced = pd.concat([df_food_downsampled, df_other])\n"
   ]
  },
  {
   "cell_type": "code",
   "execution_count": null,
   "metadata": {
    "colab": {
     "base_uri": "https://localhost:8080/"
    },
    "id": "QTZIwSi-tCRb",
    "outputId": "e9ddb8db-6d7a-4d72-ec6e-1014e2acbea3"
   },
   "outputs": [
    {
     "name": "stdout",
     "output_type": "stream",
     "text": [
      "Original Distribution:\n",
      "reduced_category\n",
      "Food & Cooking           6659\n",
      "Other                    3290\n",
      "Arts & Crafts            3132\n",
      "Home & Lifestyle         3092\n",
      "Vehicles                  608\n",
      "Pets & Animals            526\n",
      "Holidays & Traditions     369\n",
      "Health & Wellness         198\n",
      "Sports & Fitness          160\n",
      "Technology                100\n",
      "Name: count, dtype: int64\n",
      "\n",
      "Reduced Distribution (after undersampling 'Food & Cooking'):\n",
      "reduced_category\n",
      "Other                    3290\n",
      "Arts & Crafts            3132\n",
      "Home & Lifestyle         3092\n",
      "Food & Cooking           3000\n",
      "Vehicles                  608\n",
      "Pets & Animals            526\n",
      "Holidays & Traditions     369\n",
      "Health & Wellness         198\n",
      "Sports & Fitness          160\n",
      "Technology                100\n",
      "Name: count, dtype: int64\n",
      "\n",
      "Balanced Distribution (after oversampling):\n",
      "reduced_category\n",
      "Other                    3290\n",
      "Food & Cooking           3247\n",
      "Arts & Crafts            3247\n",
      "Home & Lifestyle         3247\n",
      "Vehicles                 1500\n",
      "Pets & Animals           1500\n",
      "Technology               1000\n",
      "Holidays & Traditions    1000\n",
      "Health & Wellness         198\n",
      "Sports & Fitness          160\n",
      "Name: count, dtype: int64\n"
     ]
    }
   ],
   "source": [
    "import pandas as pd\n",
    "from imblearn.over_sampling import RandomOverSampler\n",
    "\n",
    "food_cooking_subset = df[df['reduced_category'] == 'Food & Cooking'].sample(n=3000, random_state=42)\n",
    "other_categories = df[df['reduced_category'] != 'Food & Cooking']\n",
    "df_reduced = pd.concat([food_cooking_subset, other_categories], ignore_index=True)\n",
    "\n",
    "\n",
    "oversampling_strategy = {\n",
    "    'Food & Cooking': 3247,\n",
    "    'Arts & Crafts': 3247,\n",
    "    'Home & Lifestyle': 3247,\n",
    "    'Vehicles': 1500,\n",
    "    'Pets & Animals': 1500,\n",
    "    'Holidays & Traditions': 1000,\n",
    "    'Technology': 1000,\n",
    "\n",
    "}\n",
    "\n",
    "\n",
    "oversampler = RandomOverSampler(sampling_strategy=oversampling_strategy, random_state=42)\n",
    "\n",
    "\n",
    "X_balanced, y_balanced = oversampler.fit_resample(\n",
    "    df_reduced[['title', 'transcript']],\n",
    "    df_reduced['reduced_category']\n",
    ")\n",
    "\n",
    "\n",
    "df_balanced = pd.DataFrame({\n",
    "    'title': X_balanced['title'],\n",
    "    'transcript': X_balanced['transcript'],\n",
    "    'reduced_category': y_balanced\n",
    "})\n",
    "\n",
    "# Step 6: Verify the class distribution\n",
    "print(\"Original Distribution:\")\n",
    "print(df['reduced_category'].value_counts())\n",
    "print(\"\\nReduced Distribution (after undersampling 'Food & Cooking'):\")\n",
    "print(df_reduced['reduced_category'].value_counts())\n",
    "print(\"\\nBalanced Distribution (after oversampling):\")\n",
    "print(df_balanced['reduced_category'].value_counts())\n",
    "\n",
    "\n",
    "df_balanced.to_csv(\"balanced_dataset.csv\", index=False)\n"
   ]
  },
  {
   "cell_type": "code",
   "execution_count": null,
   "metadata": {
    "id": "3Cj3u3cn55rh"
   },
   "outputs": [],
   "source": [
    "\n",
    "df_balanced['text'] = df_balanced['title'] + \" \" + df_balanced['transcript']\n",
    "\n",
    "\n",
    "df_balanced = df_balanced.rename(columns={'reduced_category': 'category'})\n",
    "\n",
    "df_balanced = df_balanced.drop(columns=['title', 'transcript'])\n",
    "\n",
    "\n",
    "\n",
    "df_balanced.head()\n"
   ]
  },
  {
   "cell_type": "code",
   "execution_count": null,
   "metadata": {
    "id": "1ndYmsdW6Hwb"
   },
   "outputs": [],
   "source": [
    "df_org = df_balanced.copy()"
   ]
  },
  {
   "cell_type": "code",
   "execution_count": null,
   "metadata": {
    "colab": {
     "base_uri": "https://localhost:8080/"
    },
    "id": "mm7hGgEKMTnK",
    "outputId": "5d2b646d-beea-4356-b6a1-d5579c7c3126"
   },
   "outputs": [
    {
     "name": "stdout",
     "output_type": "stream",
     "text": [
      "         category                                               text\n",
      "0  Food & Cooking  The Best Red Wines For Beginners (Series): #3 ...\n",
      "1  Food & Cooking  MIRROR GLAZE CAKE - FAIL included - buttercrea...\n",
      "2  Food & Cooking  Pumpkin Raisin Bread | A Sweet Pea Chef ♪ [mus...\n",
      "3  Food & Cooking  GUESS THAT OREO CHALLENGE! (Kids Vs. Food) ♪ (...\n",
      "4  Food & Cooking  Whole Wheat Bread Recipe - Homemade Whole Whea...\n"
     ]
    }
   ],
   "source": [
    "\n",
    "exclude_categories = [\n",
    "    'Vehicles', 'Pets & Animals', 'Technology',\n",
    "    'Holidays & Traditions', 'Health & Wellness',\n",
    "    'Sports & Fitness'\n",
    "]\n",
    "\n",
    "\n",
    "df_filtered = df_org[~df_org['category'].isin(exclude_categories)]\n",
    "\n",
    "\n",
    "print(df_filtered.head())\n",
    "\n",
    "\n",
    "df_filtered.to_csv(\"filtered_data.csv\", index=False)\n"
   ]
  },
  {
   "cell_type": "code",
   "execution_count": null,
   "metadata": {
    "id": "bq_0e5N6Mb7M"
   },
   "outputs": [],
   "source": [
    "df_org = df_filtered.copy()"
   ]
  },
  {
   "cell_type": "code",
   "execution_count": null,
   "metadata": {
    "colab": {
     "base_uri": "https://localhost:8080/"
    },
    "id": "XEOKUmqn6Snk",
    "outputId": "d6f0418b-427f-4f06-a66e-0fb2341ec3b5"
   },
   "outputs": [
    {
     "data": {
      "text/plain": [
       "['Food & Cooking', 'Arts & Crafts', 'Home & Lifestyle', 'Other']"
      ]
     },
     "execution_count": 17,
     "metadata": {},
     "output_type": "execute_result"
    }
   ],
   "source": [
    "labels = df_org['category'].unique().tolist()\n",
    "labels = [s.strip() for s in labels ]\n",
    "labels"
   ]
  },
  {
   "cell_type": "code",
   "execution_count": null,
   "metadata": {
    "colab": {
     "base_uri": "https://localhost:8080/",
     "height": 206
    },
    "id": "fDsGuPjiL33h",
    "outputId": "60e69e77-d848-4c7d-bdf6-a4176bff1561"
   },
   "outputs": [
    {
     "data": {
      "application/vnd.google.colaboratory.intrinsic+json": {
       "summary": "{\n  \"name\": \"df_org\",\n  \"rows\": 13031,\n  \"fields\": [\n    {\n      \"column\": \"category\",\n      \"properties\": {\n        \"dtype\": \"category\",\n        \"num_unique_values\": 4,\n        \"samples\": [\n          \"Arts & Crafts\",\n          \"Other\",\n          \"Food & Cooking\"\n        ],\n        \"semantic_type\": \"\",\n        \"description\": \"\"\n      }\n    },\n    {\n      \"column\": \"text\",\n      \"properties\": {\n        \"dtype\": \"string\",\n        \"num_unique_values\": 12345,\n        \"samples\": [\n          \"Beetles, Mites, Cockroaches Oh My! [Insect Collection Tour] We're back with Crystal down here in the pinned Insect collection at The Field Museum! So the Insect Collection is the largest collection in the Field Museum It is, there is about twelve millions insects specimens and there is about four millions specimens right here in this room So the other...eight million are..? - They are downstairs in alcohol So let's go see some of the insects Sure! Our whole collections is stored in cabinets like these. And each of the cabinets has space for... several drawers. So if we open this up. There are about fifteen drawers per cabinet, Wow! And then all of our specimens are stored in tiny... Boxes that we called trays. These trays are especially built just for our collections They're called Field Museum trays. All of these cabinets here have... the same family of beetle. All of these drawers have the same Genus and the all of the same species is kept together, that way...when the scientist comes in they can just...say \\\"I'm looking for this species and this genus and this family.\\\" And...Bam! there you go! It's like Dewey Decimals systems for... Exactly! for insects. - Exactly! You're moving... several tons of cabinets. -...with the strength of an army! What's really cool about our rove beetle collections is that it's one of the best in the world. We had two experts on... rove beetles here, Al Newton and Margaret Thayer. We also have about seven thousand type specimens. We've been working on... Databasing those types and imaging them, so you can go online, anybody can go online and take a look at our Rove Beetle types. When you say \\\"seven thousands types\\\" that's not just... Random specimens, those are \\\"The Specimens\\\" Yes! that going to collections, after a new species is named. Exactly! We have a lot more specimens than seven thousand. But we have seven thousand of... the specimens that the person who originally described it designated as the name barer. [Emily] That's wild! - It bearsr the name of the new species. These blank spaces with the number, indicate where we sent specimens off to other researchers to study all around the world! We're hoping that... by...databasing all of our types by photographing them, that'll reduced the need for people to come and see them in person. I want to point out this collections because this is one of our... historically most important collections, it's the Frank Psota Collection. The collector that started this, he was the kind of this \\\"Pokemon\\\" mindset like the...\\\"Gotta catch 'em all\\\" kinda thing. So what he would do... was whenever he was missing a species from his collections, he would do a little drawing, or a little painting and he would put it the unit tray next to the specimens that were closely related or where the species should go -So he would like... would like to take the drawing and be like... \\\"I'm coming for you guy.\\\" [laugh] Ha you're next! - I hope so So it's pretty interesting that...even though He didn't know... what would happen to his collections eventually the fact that we keep all of it, with it, I think it... - Right! enhanced like it uniqueness Right! Exactly! [Emily] and It kind of that... [Emily] that collecting mentality... - Nobody else in the world has a collection like this. God! and...these are and this are some Amazing! Amazing beetles! - Yeah! check out this purple [Emily] It's a nice purple - This is...this is purple [Emily] Have you ever seen purple... - This is purple in it's purist form These are all Flower Chafers They have named of old countries That don't exist anymore [Emily] Oh yeah This is big problem with our digitization where you have interpret that and try to figure out, well, \\\"What was this?\\\" Country called [Emily] Back in nineteen forty twoo...yea... - Exactly! Exactly! What special about this space, you can...disappear This is the greatest place to play hide-and-seek by the way Cause this literally like... there's a...I can..I can... My shoulders don't fit. This is the slide collection. These are mites. And there you have it There's some mites on there. Ohh..That's why they on a...m... microscope slide. - Exactly! Cause they're hard to see. Ya. And so all of these economically important some of them infest live stock, some of them infest your pets, some of them transmit dangerous diseases. Yikes! Maybe not so much in the US, but other places in the world. So how many of these boxes you have? Tens of thousands. That's a lot. That is a lot. a lot of mites. It is a lot of mites. But, It's really important collections and we have two or three researchers a year come here to work on my collections. Do you want to see some cockroaches? [Emily] Yes! Wow!! [chuckle] Those are huge! These are giant caves roaches. They look like they have little shuffle on their head. These are so much cooler than your German Cockroach that live in your basement. I don't have cockroaches is my basement. How do you know? They're very sneaky. [Emily] No. What's really cool is we're actually databasing them so we're putting a barcode on all the specimens, so that..we can and put all of the information online, and so in this all over the world, can access that information. That's so useful. - Yeah. [Emily] That can help inform how people receives loans and request loans. Exactly! Crystal, this collections is so... incredibly massive, It's the largest collections in the museum and you mentions there'a a huge percentage that has yet to be identified But do you think they're all ever be a point where you have identify every thing, so you, what all the specimens are and there's no more questions to ask? Not in my lifetime, Not in...several lifetimes, I really don't think so. I mean this is... This is just a treasure trove of stuff. Fifty years ago we didn't know that we were going to extracting DNA out of this specimens. Yeah. So who knows what were going to be doing with these specimens fifty years into the future This is a cabinet of specimens that the leading experts on beetles have looked at and still they don't know what they are. If you interested in insects, seems like there's is is almost...the...the... the wild west. Yes! there was an infinite amount of work to do. Anybody with a backyard and some pins... and... you know...a cigar box can start an insect collections. There's a new species that been described right here from the Museum campus. Really?! Ya There's a brand new species... - Right outside...right outside. [Emily] Wow! - Nobody knew about It's a fly. Jeez! maybe that's a different story - That's a different story. [Emily] That's another brainscoop. Yes. ha ha Thanks for having me. That was great! - Yea...I don't... [thebrainscoop jingle] ...It still has brain on it.\",\n          \"Water Bottle Flip 2 | Dude Perfect Tyler: This is the second story bounce pad. YEAH! Man water bottle flips are dead. We're done. Never happening again. And then you do something like that and you're like: LET'S GO! ANNOUNCER: Dude Perfect. (MUSIC PLAYING) Coby: You might be thinking,\\\" you're playing soccer and baseball?\\\" Huh. I'm bottle flippin'. *thunk* *winks* (highnote) HAHA! *in the background* Yeah! Heyy!! WOOHOO! Tyler: One flip's pretty cool... ...but not as cool is a slide flip, into a barricade that flips her again, goes to a second tier, lands her, and sticks her right on the edge. So that's what I'm going to try and do... Aahh! Coby: This is the longboard triple flip. Tyler: This is the no-looker. Tell me that landed. WOOO! Coby: Baang! Garrett: Thanks bro! appreciate that! Cody: This is the \\\"Swinging Swing Staller\\\", check this out. OHHH!! (OHH!) Garrett: You always end the trick on a little railer, dude. *DJ Record Scratch* Garrett: *gasp* \\\"ooh\\\" Tyler: wow *laughter* Tyler: This is the beard balancing bottle flip. Here we go, boys! WHOOO, HOOOOOO! WOOO! I got it, baby! Garrett: Well, as you can see, early stages of his training, we will continue and master the flip. Tyler: I like the future of DP I'm feeling good about it. Owen, I'm proud of you. Good job, bud. Tyler: Can you say, \\\"This is the bottle flip\\\"? Owen: (shyly)This is the bottle flip. (in the background) Ooohh! Garrett: Yeahh!! (claps) Coby: That was...my arm. Garrett: Wooo!! Finish her off. *DJ Record Scratch* Garrett: Ha ha, worth a shot. Garrett: Baang! Wall bouncer baby. And finish her off. Tyler: This is the double flip slider. NO WAAAY! WOOOOO! Tyler: What's up, guys? Thanks for watching, click down here to subscribe... ...so you don't miss out on any new DP videos, got some good ones coming out. Christmas stereotypes, all sports golf battle. Woo! those are nice. Click up here to get some awesome DP merch. Click over here to see the last video. Signing off for now. Pound it! Noggin! See ya!!\",\n          \"Pancake Stick It Challenge | Kitchen Gymnastics with Whitney & Mal - Hi, I'm Whitney. - And I'm Mallory. - And welcome to Kitchen Gymnastics. (upbeat music) Today we'll be making and flipping pancakes. And this is my good friend Mallory and she is a pancake expert. (laughing) So let's get started. - En guard. Yay, I won. - The ingredients we will need are an electric frying pan, a mixing bowl, eggs, and milk. - Pancake mix, measuring cup, whisk, and syrup. - So let's start making pancakes. So first we need two cups of the pancake mix. (laughing) - Come on. - You might wanna do it over here. - Oh yeah, that good? - No. - Oh okay. (laughing) It's not even touching it. Okay, that's one cup. Okay, two cups right? - Yes. (laughing) There, two cups. - Okay. (laughing) - Okay, so next we need one cup of milk. Sorry. (laughing) - I got you. - Right there, tell me when to stop. (laughing) - Why are you laughing? - Okay that's good. Next? - Two eggs. - Two eggs. (laughing) - Whoa. (laughing) - You do one, I do one? - Okay. Time to go swimming. - Oh I got it. - Okay, now mix. - A little mad there, okay. - Okay. So that's probably good. Now we have to stir until it's blended, which we already did then we have to pour less than one fourth cup full onto hot greased griddle. - That's the griddle? - Yes. So we've mixed our batter, now it's time to start cooking. We need to spray this thing so it doesn't stick to the bowl. Okay, so we are going to make four pancakes. You do two, I'll do two. Don't do that. (laughing) - What? I don't want it to spill. (laughing) - Okay. Okay. - It's gonna touch it. Yours is so big. - Oops. - You're not supposed to fill up the whole thing. - I didn't. Okay, so now we're gonna let it cook until the edges dry. I don't know what that means. And then we're going to flip them. Yeah, now it's like this. - [Mallory] Look at mine. - Yours has warts. So we're gonna check the small ones to see if they're ready yet. - Yeah, that's really nice. Got it, nailed it. - Alright, I'm gonna flip it. Another minute and they're done. That's so cheesy. (laughing) These looks really good. (laughing) - What's that? (laughing) - I think they're done, now it's time to get flipping. - I missed the plate, go ahead. (laughing) I flipped it in the thing again. (dinging) (cheering) I flipped yours. (laughing) - I'm pretty hungry, I think we should make more. - Okay. (laughing) - Go team. (laughing) Do you think that's enough? - For now? - Can you do a triple back flip? - No, but my pancake can. (laughing) (dinging) - That sucks. - You ready, I got you. Oh, how do you do that. - That was okay, lemme try. - Don't eat it. Oh, standing up for this. (dinging) That was cool, good job. You rejected me. (laughing) Okay, wait can I try it again. - Yes. - I can do better than you. (laughing) Don't eat it, don't eat it. (laughing) Okay, well I mean he's licked it now. (laughing) - The dog licked it, go ahead and get rid of it. (crashing) - Okay, well let's try and flip a little more. (dinging) - Oh that was actually pretty good. It just didn't land on the plate. Oh, I did it. (laughing) - Oh, this one went on the floor, let's throw that one. (crashing) (laughing) - Well, since we're having so much fun, I challenge you to a pancake flipping challenge. - It's on. - Wait first I wanna do one. - Okay. (laughing) No, don't eat it. (laughing) He's stalking me. This one has to go against the wall right? - This one went on the, yeah. (meowing) That's fine. This one fell on the floor but I'm gonna do a connection. Oh poo, wait watch this. - Wait okay, let's do this again. (splashing) - I'm gonna try two at once. - Did you see that? (laughing) - Okay ready? Two at once. (dinging) Ready? - That was... We should, wait wait wait. (laughing) Oh yeah across. Wait I need to catch yours. - Yeah. Three, two... (applauding) - Now it's time to get crazy. I'm going to try and catch all 16 of those rapid fire while she throws them. Yeah, flips them. So let's get started. (laughing) (applauding) That's one, two, three, four, five, six, and I caught a couple more, but most of them fell. So hooray. (dinging) (laughing) Now it's my turn to try, and she's gonna see how many she can catch. Alright ready? - Yup. (laughing) (applauding) How many did I get, like four or five? I think I dropped a few. (laughing) - Somebody crushed this one. - I stepped on it. Hey wait, I challenge you to the pancake emoji contest. - Accepted. - Alright. - So we're gonna do a happy face first. (laughing) - Mine looks mad. (laughing) - Mine looks like ugh. (splashing) - Oh it ripped. (laughing) It went into his bowl. - Okay, now let's try sad face. - It landed in the bowl. - Sad. Yours looks the same. - No its frown is upside down. Oh wait, no. Now it looks better. (banging) (laughing) Pinkies up. (laughing) - I was thirsty. So now our next event, or activity with the pancakes is the pancake stick it challenge. I'm going to be holding two plates of pancakes and I'm going to try and stick it, ow, stick it and not drop the pancakes, and then we'll keep adding more and more until I fail. And Mallory will not be participating in this year's event because she has-- - A problem. - She has hurt her toe, very badly, her foot, so let's go. - You can do it. - Okay. Attempt number one. - You can do it. - That's my salute by the way. (applauding) Okay, now we have to add five. - Five. - Oh my gosh. - Alright, there you go. Good luck, okay. Come here buddy, come on, come here. Come on. Come here, come on, come here. Good job. (laughing) - I usually crack my toes. (applauding) Okay now 15. Can you put them on my hands? - They're falling. (dramatic music) - Yeah this is not gonna work. (dramatic music) Okay now I'm not gonna make this for sure, but I'm gonna try. (groaning) (dinging) So now it's time for the pancake eating challenge, so we're gonna pour our syrup and then get ready to go. Oh my gosh. It comes out fast. Alright. - Hey, that's so much. - On your mark, get set, go. - Oh my gosh. - We're each gonna get rid of two pancakes. So this didn't work out as we planned. Be sure to go check out Mallory's channel in the link down below, also right here And thanks for watching, bye. (upbeat music)\"\n        ],\n        \"semantic_type\": \"\",\n        \"description\": \"\"\n      }\n    }\n  ]\n}",
       "type": "dataframe",
       "variable_name": "df_org"
      },
      "text/html": [
       "\n",
       "  <div id=\"df-9cb937b5-62f5-40f3-87cc-1e573faef031\" class=\"colab-df-container\">\n",
       "    <div>\n",
       "<style scoped>\n",
       "    .dataframe tbody tr th:only-of-type {\n",
       "        vertical-align: middle;\n",
       "    }\n",
       "\n",
       "    .dataframe tbody tr th {\n",
       "        vertical-align: top;\n",
       "    }\n",
       "\n",
       "    .dataframe thead th {\n",
       "        text-align: right;\n",
       "    }\n",
       "</style>\n",
       "<table border=\"1\" class=\"dataframe\">\n",
       "  <thead>\n",
       "    <tr style=\"text-align: right;\">\n",
       "      <th></th>\n",
       "      <th>category</th>\n",
       "      <th>text</th>\n",
       "    </tr>\n",
       "  </thead>\n",
       "  <tbody>\n",
       "    <tr>\n",
       "      <th>0</th>\n",
       "      <td>Food &amp; Cooking</td>\n",
       "      <td>The Best Red Wines For Beginners (Series): #3 ...</td>\n",
       "    </tr>\n",
       "    <tr>\n",
       "      <th>1</th>\n",
       "      <td>Food &amp; Cooking</td>\n",
       "      <td>MIRROR GLAZE CAKE - FAIL included - buttercrea...</td>\n",
       "    </tr>\n",
       "    <tr>\n",
       "      <th>2</th>\n",
       "      <td>Food &amp; Cooking</td>\n",
       "      <td>Pumpkin Raisin Bread | A Sweet Pea Chef ♪ [mus...</td>\n",
       "    </tr>\n",
       "    <tr>\n",
       "      <th>3</th>\n",
       "      <td>Food &amp; Cooking</td>\n",
       "      <td>GUESS THAT OREO CHALLENGE! (Kids Vs. Food) ♪ (...</td>\n",
       "    </tr>\n",
       "    <tr>\n",
       "      <th>4</th>\n",
       "      <td>Food &amp; Cooking</td>\n",
       "      <td>Whole Wheat Bread Recipe - Homemade Whole Whea...</td>\n",
       "    </tr>\n",
       "  </tbody>\n",
       "</table>\n",
       "</div>\n",
       "    <div class=\"colab-df-buttons\">\n",
       "\n",
       "  <div class=\"colab-df-container\">\n",
       "    <button class=\"colab-df-convert\" onclick=\"convertToInteractive('df-9cb937b5-62f5-40f3-87cc-1e573faef031')\"\n",
       "            title=\"Convert this dataframe to an interactive table.\"\n",
       "            style=\"display:none;\">\n",
       "\n",
       "  <svg xmlns=\"http://www.w3.org/2000/svg\" height=\"24px\" viewBox=\"0 -960 960 960\">\n",
       "    <path d=\"M120-120v-720h720v720H120Zm60-500h600v-160H180v160Zm220 220h160v-160H400v160Zm0 220h160v-160H400v160ZM180-400h160v-160H180v160Zm440 0h160v-160H620v160ZM180-180h160v-160H180v160Zm440 0h160v-160H620v160Z\"/>\n",
       "  </svg>\n",
       "    </button>\n",
       "\n",
       "  <style>\n",
       "    .colab-df-container {\n",
       "      display:flex;\n",
       "      gap: 12px;\n",
       "    }\n",
       "\n",
       "    .colab-df-convert {\n",
       "      background-color: #E8F0FE;\n",
       "      border: none;\n",
       "      border-radius: 50%;\n",
       "      cursor: pointer;\n",
       "      display: none;\n",
       "      fill: #1967D2;\n",
       "      height: 32px;\n",
       "      padding: 0 0 0 0;\n",
       "      width: 32px;\n",
       "    }\n",
       "\n",
       "    .colab-df-convert:hover {\n",
       "      background-color: #E2EBFA;\n",
       "      box-shadow: 0px 1px 2px rgba(60, 64, 67, 0.3), 0px 1px 3px 1px rgba(60, 64, 67, 0.15);\n",
       "      fill: #174EA6;\n",
       "    }\n",
       "\n",
       "    .colab-df-buttons div {\n",
       "      margin-bottom: 4px;\n",
       "    }\n",
       "\n",
       "    [theme=dark] .colab-df-convert {\n",
       "      background-color: #3B4455;\n",
       "      fill: #D2E3FC;\n",
       "    }\n",
       "\n",
       "    [theme=dark] .colab-df-convert:hover {\n",
       "      background-color: #434B5C;\n",
       "      box-shadow: 0px 1px 3px 1px rgba(0, 0, 0, 0.15);\n",
       "      filter: drop-shadow(0px 1px 2px rgba(0, 0, 0, 0.3));\n",
       "      fill: #FFFFFF;\n",
       "    }\n",
       "  </style>\n",
       "\n",
       "    <script>\n",
       "      const buttonEl =\n",
       "        document.querySelector('#df-9cb937b5-62f5-40f3-87cc-1e573faef031 button.colab-df-convert');\n",
       "      buttonEl.style.display =\n",
       "        google.colab.kernel.accessAllowed ? 'block' : 'none';\n",
       "\n",
       "      async function convertToInteractive(key) {\n",
       "        const element = document.querySelector('#df-9cb937b5-62f5-40f3-87cc-1e573faef031');\n",
       "        const dataTable =\n",
       "          await google.colab.kernel.invokeFunction('convertToInteractive',\n",
       "                                                    [key], {});\n",
       "        if (!dataTable) return;\n",
       "\n",
       "        const docLinkHtml = 'Like what you see? Visit the ' +\n",
       "          '<a target=\"_blank\" href=https://colab.research.google.com/notebooks/data_table.ipynb>data table notebook</a>'\n",
       "          + ' to learn more about interactive tables.';\n",
       "        element.innerHTML = '';\n",
       "        dataTable['output_type'] = 'display_data';\n",
       "        await google.colab.output.renderOutput(dataTable, element);\n",
       "        const docLink = document.createElement('div');\n",
       "        docLink.innerHTML = docLinkHtml;\n",
       "        element.appendChild(docLink);\n",
       "      }\n",
       "    </script>\n",
       "  </div>\n",
       "\n",
       "\n",
       "<div id=\"df-ced9c9b7-daff-44b5-a31b-6324413bf59e\">\n",
       "  <button class=\"colab-df-quickchart\" onclick=\"quickchart('df-ced9c9b7-daff-44b5-a31b-6324413bf59e')\"\n",
       "            title=\"Suggest charts\"\n",
       "            style=\"display:none;\">\n",
       "\n",
       "<svg xmlns=\"http://www.w3.org/2000/svg\" height=\"24px\"viewBox=\"0 0 24 24\"\n",
       "     width=\"24px\">\n",
       "    <g>\n",
       "        <path d=\"M19 3H5c-1.1 0-2 .9-2 2v14c0 1.1.9 2 2 2h14c1.1 0 2-.9 2-2V5c0-1.1-.9-2-2-2zM9 17H7v-7h2v7zm4 0h-2V7h2v10zm4 0h-2v-4h2v4z\"/>\n",
       "    </g>\n",
       "</svg>\n",
       "  </button>\n",
       "\n",
       "<style>\n",
       "  .colab-df-quickchart {\n",
       "      --bg-color: #E8F0FE;\n",
       "      --fill-color: #1967D2;\n",
       "      --hover-bg-color: #E2EBFA;\n",
       "      --hover-fill-color: #174EA6;\n",
       "      --disabled-fill-color: #AAA;\n",
       "      --disabled-bg-color: #DDD;\n",
       "  }\n",
       "\n",
       "  [theme=dark] .colab-df-quickchart {\n",
       "      --bg-color: #3B4455;\n",
       "      --fill-color: #D2E3FC;\n",
       "      --hover-bg-color: #434B5C;\n",
       "      --hover-fill-color: #FFFFFF;\n",
       "      --disabled-bg-color: #3B4455;\n",
       "      --disabled-fill-color: #666;\n",
       "  }\n",
       "\n",
       "  .colab-df-quickchart {\n",
       "    background-color: var(--bg-color);\n",
       "    border: none;\n",
       "    border-radius: 50%;\n",
       "    cursor: pointer;\n",
       "    display: none;\n",
       "    fill: var(--fill-color);\n",
       "    height: 32px;\n",
       "    padding: 0;\n",
       "    width: 32px;\n",
       "  }\n",
       "\n",
       "  .colab-df-quickchart:hover {\n",
       "    background-color: var(--hover-bg-color);\n",
       "    box-shadow: 0 1px 2px rgba(60, 64, 67, 0.3), 0 1px 3px 1px rgba(60, 64, 67, 0.15);\n",
       "    fill: var(--button-hover-fill-color);\n",
       "  }\n",
       "\n",
       "  .colab-df-quickchart-complete:disabled,\n",
       "  .colab-df-quickchart-complete:disabled:hover {\n",
       "    background-color: var(--disabled-bg-color);\n",
       "    fill: var(--disabled-fill-color);\n",
       "    box-shadow: none;\n",
       "  }\n",
       "\n",
       "  .colab-df-spinner {\n",
       "    border: 2px solid var(--fill-color);\n",
       "    border-color: transparent;\n",
       "    border-bottom-color: var(--fill-color);\n",
       "    animation:\n",
       "      spin 1s steps(1) infinite;\n",
       "  }\n",
       "\n",
       "  @keyframes spin {\n",
       "    0% {\n",
       "      border-color: transparent;\n",
       "      border-bottom-color: var(--fill-color);\n",
       "      border-left-color: var(--fill-color);\n",
       "    }\n",
       "    20% {\n",
       "      border-color: transparent;\n",
       "      border-left-color: var(--fill-color);\n",
       "      border-top-color: var(--fill-color);\n",
       "    }\n",
       "    30% {\n",
       "      border-color: transparent;\n",
       "      border-left-color: var(--fill-color);\n",
       "      border-top-color: var(--fill-color);\n",
       "      border-right-color: var(--fill-color);\n",
       "    }\n",
       "    40% {\n",
       "      border-color: transparent;\n",
       "      border-right-color: var(--fill-color);\n",
       "      border-top-color: var(--fill-color);\n",
       "    }\n",
       "    60% {\n",
       "      border-color: transparent;\n",
       "      border-right-color: var(--fill-color);\n",
       "    }\n",
       "    80% {\n",
       "      border-color: transparent;\n",
       "      border-right-color: var(--fill-color);\n",
       "      border-bottom-color: var(--fill-color);\n",
       "    }\n",
       "    90% {\n",
       "      border-color: transparent;\n",
       "      border-bottom-color: var(--fill-color);\n",
       "    }\n",
       "  }\n",
       "</style>\n",
       "\n",
       "  <script>\n",
       "    async function quickchart(key) {\n",
       "      const quickchartButtonEl =\n",
       "        document.querySelector('#' + key + ' button');\n",
       "      quickchartButtonEl.disabled = true;  // To prevent multiple clicks.\n",
       "      quickchartButtonEl.classList.add('colab-df-spinner');\n",
       "      try {\n",
       "        const charts = await google.colab.kernel.invokeFunction(\n",
       "            'suggestCharts', [key], {});\n",
       "      } catch (error) {\n",
       "        console.error('Error during call to suggestCharts:', error);\n",
       "      }\n",
       "      quickchartButtonEl.classList.remove('colab-df-spinner');\n",
       "      quickchartButtonEl.classList.add('colab-df-quickchart-complete');\n",
       "    }\n",
       "    (() => {\n",
       "      let quickchartButtonEl =\n",
       "        document.querySelector('#df-ced9c9b7-daff-44b5-a31b-6324413bf59e button');\n",
       "      quickchartButtonEl.style.display =\n",
       "        google.colab.kernel.accessAllowed ? 'block' : 'none';\n",
       "    })();\n",
       "  </script>\n",
       "</div>\n",
       "\n",
       "    </div>\n",
       "  </div>\n"
      ],
      "text/plain": [
       "         category                                               text\n",
       "0  Food & Cooking  The Best Red Wines For Beginners (Series): #3 ...\n",
       "1  Food & Cooking  MIRROR GLAZE CAKE - FAIL included - buttercrea...\n",
       "2  Food & Cooking  Pumpkin Raisin Bread | A Sweet Pea Chef ♪ [mus...\n",
       "3  Food & Cooking  GUESS THAT OREO CHALLENGE! (Kids Vs. Food) ♪ (...\n",
       "4  Food & Cooking  Whole Wheat Bread Recipe - Homemade Whole Whea..."
      ]
     },
     "execution_count": 18,
     "metadata": {},
     "output_type": "execute_result"
    }
   ],
   "source": [
    "df_org.head()"
   ]
  },
  {
   "cell_type": "code",
   "execution_count": null,
   "metadata": {
    "id": "icoSzi8i6VEK"
   },
   "outputs": [],
   "source": [
    "NUM_LABELS= len(labels)\n",
    "\n",
    "id2label={id:label for id,label in enumerate(labels)}\n",
    "\n",
    "label2id={label:id for id,label in enumerate(labels)}"
   ]
  },
  {
   "cell_type": "code",
   "execution_count": null,
   "metadata": {
    "colab": {
     "base_uri": "https://localhost:8080/"
    },
    "id": "ni7N5NsF6bsX",
    "outputId": "351d7f18-e505-4c70-8ac9-e18347bc4e17"
   },
   "outputs": [
    {
     "data": {
      "text/plain": [
       "{'Food & Cooking': 0, 'Arts & Crafts': 1, 'Home & Lifestyle': 2, 'Other': 3}"
      ]
     },
     "execution_count": 20,
     "metadata": {},
     "output_type": "execute_result"
    }
   ],
   "source": [
    "label2id"
   ]
  },
  {
   "cell_type": "code",
   "execution_count": null,
   "metadata": {
    "colab": {
     "base_uri": "https://localhost:8080/"
    },
    "id": "s-XVDvSl6eAA",
    "outputId": "2abf8f7b-0e8f-49db-c21f-860d33619783"
   },
   "outputs": [
    {
     "data": {
      "text/plain": [
       "{0: 'Food & Cooking', 1: 'Arts & Crafts', 2: 'Home & Lifestyle', 3: 'Other'}"
      ]
     },
     "execution_count": 21,
     "metadata": {},
     "output_type": "execute_result"
    }
   ],
   "source": [
    "id2label"
   ]
  },
  {
   "cell_type": "code",
   "execution_count": null,
   "metadata": {
    "id": "ONmQJ50t6fsS"
   },
   "outputs": [],
   "source": [
    "df_org['labels'] = pd.factorize(df_org.category)[0]\n"
   ]
  },
  {
   "cell_type": "code",
   "execution_count": null,
   "metadata": {
    "colab": {
     "base_uri": "https://localhost:8080/",
     "height": 363
    },
    "id": "PYh6waLL8ir0",
    "outputId": "265f9243-d5e4-48c3-9bf3-bfbd4bf371e7"
   },
   "outputs": [
    {
     "data": {
      "application/vnd.google.colaboratory.intrinsic+json": {
       "summary": "{\n  \"name\": \"df_org\",\n  \"rows\": 10,\n  \"fields\": [\n    {\n      \"column\": \"category\",\n      \"properties\": {\n        \"dtype\": \"category\",\n        \"num_unique_values\": 4,\n        \"samples\": [\n          \"Arts & Crafts\",\n          \"Food & Cooking\",\n          \"Other\"\n        ],\n        \"semantic_type\": \"\",\n        \"description\": \"\"\n      }\n    },\n    {\n      \"column\": \"text\",\n      \"properties\": {\n        \"dtype\": \"string\",\n        \"num_unique_values\": 10,\n        \"samples\": [\n          \"Will Toy Caps Ignite Gasoline? Hey guys, today we're experimenting to see what happens when you throw a cap dart at gasoline because you asked for it. These cap darts are super simple to make, they use a #6 machine screw and some of these kids' cap gun caps to put over the top and turn them into exploding-tipped blow darts. This gives the dart the ability that when the dart hits the ground, it makes a loud sharp snap. These cap darts are super easy to make, they're super fun to play with, and they're not really that dangerous until today because our friend \\\"landon main\\\" asks \\\"The real question is can it light gasoline\\\", so we're going to find out. (Cracking) Got my trusty fire extinguisher hope we don't have to use that today, douse it with a little bit more gasoline just so it's kind of refreshed and ready and I'm going to put this really far away. The first test I'm going to try is just dropping it from here, let's just see what happens, so let's give it a try here 3... 2... 1... (Cracking) Now did you see that? There was actually a spark (Slow motion crack) of fire on there, but I didn't actually see the gasoline light, which is amazing because this brick is actually pretty well soaked with gasoline. (Continuous cracking) Nothing! All right so here's the cap dart if you take a look at the cap here, you probably noticed there's no real noticeable damage, it's not cracked open and I think most of the blast shot back upward towards the top of the cap. We actually need to blast forward out of the cap, so let's try it one more time, but this time, let's throw it quite a bit harder to see if we can get the sparks to fly forward. (Cracking) Whoa, There it is! (Ignition). Here's the cap you can actually see it did blast through. That is different than the first one was. Ok so one thing you need to know about using gasoline on the road is something we learned right now. Look down here at what's happening to the asphalt. Apparently, gasoline heats the road, ok so don't try this at home! We're going to find a little bit safer place to do the next experiments. Now that we got a little puddle of gasoline, I'm going to hit this hard and hope that it goes off, so we are are going to try (Continuous cracking) (Slow motion crack) OK so we're dealing with gasoline, it's a volatile liquid that is supposed to react to sparks, but we're throwing exploding cap darts, you can see that the sparks aren't coming out, so why is this not going off? (Cracking) Dude, I really want this to light off. I really do. I'm getting a little discouraged Ok, so we're kind of thinking like most of the sparks are flying to the back, we might need to prepare these a little bit to encourage the sparks to come out the front. I'm going to take these scissors, and cut a little bit of a hole in the tip there to make it a little bit easier access to that thing when it explodes. Let's see if that makes a difference. (Cracking) Oh, I missed it, but it worked! Dude, I think we're up to something We have to see it in slow motion (Ignition) Oh, dude, I totally missed, but that worked perfectly! That looks really cool. Let's do this one more time. Oh, I didn't prepare this! (Cracking) Yes! Yeah (Slow motion cracking) I have created fire! Not really the fire I want to cook a hot-dog although Boom, like Magic! (Ignition) So now that we've got to figure out how to do it by hand, lets take things up a notch and try it with our laser-guided blowgun (Ignition) Alright guys, so in conclusion, I think we finally cracked the code on how to make these things go off. It's not by throwing it as hard as you can, it's by trimming the edges so we can direct the sparks into the gasoline, so now that we're getting these things to work 100% of the time. I want to see your comments below on what kind of things we should light up with them. Thanks so much for joining me for this experiment and while you're waiting for the next one, I've got a lot more videos you can still check out at thekingofrandom.com. I'll see you in the next one Hey, what's up guys, I made this video because you asked for it, and i'm taking more requests right now. So what do you want for me to do next? Put your wackiest ideas in the comments and let's see what fun we can have in the next video. I'll see you there. Patreon\",\n          \"HOW to CROCHET a BEGINNER EASY FLOWER - DIY Rose Rosas Bouquet Flowers Leaf Leaves Stem Tutorial Hi I'm Donna Wolfe from naztazia.com Today i'm going to show you how to crochet a flower. This pattern can be found on my website naztazia.com Also to view this video in other languages, just click on the closed caption link on YouTube, and turn on subtitles. From there, you can pick from over 100 different languages. To begin you'll need about 100 yards of worsted weight yarn and a size H hook. start off with a slip knot, then chain 66. If you need help with the basics of crochet, please see my beginner crochet videos on Youtube. Once you are finished, it is time to begin row 1. Skip the first 5 chains, then do 1 double crochet in the 6th chain from the hook. Then skip the next 2 chains. Do 1 double crochet in the next chain. Chain 2. Do 1 double crochet stitch in the same space. Skip the next 2 chains, then do 1 double crochet in the next chain. Chain 2. Then do 1 double crochet in the same space. Skip the next 2 chains, then double crochet in the next chain. Chain 2, and then do 1 double crochet in the same space. You will continue on with this pattern across the entire row. Skip 2 chains, then do 1 double crochet, 2 chains, and 1 double crochet in the next stitch. You can see how the stitches form a V. Once you have finished row 1, it is time to begin row 2. Chain 3 and turn your work. Do 1 double crochet in the V space from the previous row. Next, chain 3. Do 2 double crochet stitches in the same space. In the middle of the next V, do 2 double crochet stitches, 3 chains, and 2 double crochet stitches. Then, in the middle of the next V, do 2 double crochet stitches, 3 chains, and 2 double crochet stitches. Continue on with this pattern of 2 double crochet stitches, chain 3, 2 double crochet stitches in each V across. Once completed, we'll begin row 3. Chain 1 and turn your work. In the first V from the row below, do 7 double crochet stitches. Then in the very next hole, do 1 single crochet stitch. In the next V, do 7 double crochet stitches. And in the very next hole, do 1 single crochet. Continue this pattern across the entire row. 7 double crochet stitches in the previous row's V. Then 1 single crochet in the very next hole. At the end of the row, just place your 1 single crochet in a stitch near the edge. Once completed, cut a long tail, then pull your yarn through to secure it. I like to take the 2 loose ends and knot them together. You won't really notice this knot in the final flower. Now starting on the opposite end of the loose ends. Grab the edge of the flower like this. And begin to wrap and roll the fabric over your finger to form it into a flower. You might need to adjust a few petals here and there once completed. Next thread a yarn needle. Insert your needle through the center of the side of the flower, and out the other side of the flower. This helps hold the flower together so that it doesn't unravel. Once completed, take your two ends and tie another knot to secure it. Cut off your ends and if you want, add some hot glue over the knot to prevent it from unravelling. You can use this flower as an embellishment now, or, you can add a stem and some leaves to it. You'll need some green floral wire in the size of about 16 gauge for the stem and 22 gauge for the leaves. Green floral tape and a small amount of green yarn is also needed. First we'll work on the sepal, which is the green part underneath the actual flower. To begin, do a magic ring, which is just a very loose slipknot, then chain 1. Do 5 half double crochet stitches in the ring. Tighten the beginning string, then slip stitch to the beginning. Chain 6. Skip the first chain, then do 1 single crochet in each of the next 5 stitches. Now, do 1 single crochet on top of the next half double crochet from the previous round. Chain 6. Skip the first chain, then do 1 single crochet in each of the next 5 stitches. Do 1 single crochet in the top of the next half double crochet. Repeat this process until you have a total of 5 petals for your sepal. Once completed, knot together your beginning and ending strings, but do not trim off the yarn strands. Next we'll work on a leaf. You will need to make 2 or more of these leaves. To begin, do a slipknot, then chain 12. Skip the first chain, then do 1 single crochet, followed by 1 single crochet in the next stitch. In each of the next 2 stitches, do 1 half double crochet. In the next stitch, do 1 double crochet, in the next, a triple crochet. In the next, 1 double crochet. Next stitch is 1 half double crochet, followed by 1 half double crochet in the next stitch. In each of the last 2 stitches, do 1 single crochet. Now we will pivot our work and work on the opposite side of that beginning chain. Do 1 single crochet in the same space that you make your last single crochet stitch. And do 1 single crochet in the next stitch. Next do 1 half double crochet in each of the next 2 stitches. Do 1 double crochet, then a triple crochet, then 1 double crochet. The next 2 stitches will have 1 half double crochet in each of them. You will end the leaf by doing 1 single crochet in each of the next 2 stitches. Cut your yarn, then weave in your ends. As with all parts of the flower, feel free to add some hot glue over the knot just to secure it. Now it's time to connect it all together. Take your 16 gauge floral wire, which is about 18 or 20 inches long, bend it and fold it in half. Then take the pointed ends and insert it into the flower. Try to get the two prongs through different parts of the flower. This way, the stem will not pop out from the bottom and the flower will be very secure. Insert the sepal onto the stem next. Take some green floral tape, while holding the stem and the yarn strands from the sepal, and start wrapping the tape around both the stem and the yarn strands. The floral tape is both sticky and stretchy, so you will want to slightly stretch it as you wrap it around the stem. This smooths the tape out plus makes it stick better to itself. After wrapping about 2 inches, you can cut off the excess yarn. Then continue wrapping until about half way down. Now it's time to wire up the leaves. Cut off about 16 inches of 22 gauge floral wire. If you have some flat nylon pliers, you can straighten out your wire a bit, but if not, don't worry about doing it. Fold the wire in half. Then insert one side of the wire into your crocheted leaf. Twist it on the bottom to secure it. You will also need to do this same process to your second leaf. Next wrap some green floral tape around the wire, for about 2 or 3 inches. Place it next to the main stem, then using the floral tape, wrap the two sections together. You'll want to gently stretch the tape and squeeze it to the wire as you are working with it. And I like to twist the stem to apply it. A little ways down the stem you can attach your next leaf. And then continue wrapping the stem with the floral tape. When you get near the bottom, I like to bend the wire up into a loop to avoid having sharp wires directly at the edge. Continue on wrapping with the floral tape. Once you are satisfied with the coverage of the stem, cut your tape. Stretch it a little bit more than usual and press it into the stem to ensure it sticks tightly. Now, if any petal or leaf isn't doing exactly what it should, you can add some hot glue to help hold it in place. I like to apply a little glue to the center sections of the sepal, just to hold them against the flower nicely. And here is the finished flower.\",\n          \"How Do Glaciers Move? Here\\u2019s something we all take for granted: Liquid things flow like liquids, and solid things flow like, well\\u2026 solid things don\\u2019t flow, right? Not so fast. Glaciers are cool, and not just cuz they\\u2019re made of ice. I\\u2019m here at Mendenhall Glacier, one of about 40 glaciers in the famed Juneau Icefield. Glaciers are cool, because the way that they move, even the very fact that they move seems to defy physics. A solid structure, that flows like liquid. How? THAT is a question of glacial proportions. [OPEN] To figure out how a glacier moves, first let\\u2019s go back to the beginning. &lt;Show the big bang&gt; Ahh, not that beginning. The beginning of the glacier, and first you\\u2019ve got to get up there. I'm super excited, I've never been in a helicopter before and we're gonna take this thing up to the top of a glacier. This ice is born in the ocean. Warm, moist air from the Pacific rises up coastal mountains, where it cools, condenses, and falls as snow and rain. 30 meters of snow, sometimes more, falls on this icefield every year. But you need more than a mountain of snow to make a glacier: you also need the right climate. Even in summer, temperatures in this region dip near freezing. What this means is the accumulation of snow in winter exceeds snowmelt in summer. So snow builds over time, with each layer landing on top of the one before it. Now, a cubic meter of fresh snow typically weighs 70 to 150 kilograms. That\\u2019s about as much as an adult human or two. Most of that volume is air. But as it continues to pile up, collective forces on the fluffy stuff begin a transformation. *First, those pretty snowflake shapes are totally shattered into smaller crystals; about as big as grains of sugar. And as they get squished, the air pockets between them start to shrink. The snow gets denser. *After about two years, ground snow takes a new form, called \\u201cfirn,\\u201d an intermediate state between snow and glacial ice. Firn is about two-thirds the density of water, and it can take decades to complete the transition into its final form. That final form is a big mass of dense, bubble-free ice. The ice in Mendenhall is flowing forward more than a half meter every day. Glaciers are often compared to \\u201crivers of ice,\\u201d and that\\u2019s not wrong. These giant solid structures behave with liquid-like tendencies. *I know what you\\u2019re thinking: \\u201cice flows because it melts.\\u201d But glacier ice flows without melting. Mendenhall fits the definition of a solid: I can stand \\u2013 even jump \\u2013 on it, and it will hold its shape. Short term stress doesn\\u2019t affect that. But long-term stress, like bearing its own extraordinary weight, will cause it to deform and bend. What we\\u2019re told makes something a solid, rather than a liquid, is that its atoms and molecules are so tightly bonded, they can\\u2019t move past each other. But this isn\\u2019t the case with glacial ice. Its water molecules are arranged in an orderly pattern, but under certain conditions they can still flow. Much of this has to do with the pressure melting point. As pressure increases, the melting point of ice decreases. When glacier ice stays close to \\u2013 but just below \\u2013 that point, it becomes malleable, much like how you can bend and deform solid metal when it\\u2019s heated near its melting point. *The deepest layers of a glacier are exposed to the most pressure. This is known as the \\u201czone of plastic flow,\\u201d because the bonds between the ice crystals can be stretched rather than broken. Here, the molecular bonds between ice crystals actually stretch and slide past each other, rather than break, like how a deck of cards deforms as cards slide past each other. &lt;Have the word MAGIC come up behind joe for a few frames as he tosses the cards&gt; When the bottom of the glacier needs to move around large obstacles, like boulders, even higher pressures on the uphill side cause the ice to melt, flow around the obstacle, and refreeze on the other side. &lt;Could show a cross section of a boulder to show this, check out Figure 2) *As these processes repeat, the glacier creeps along, propelled by gravity, like a giant, gooey conveyor belt. *Up in the top of the glacier, things get a bit cranky. The upper 150 feet or so \\u2013 \\u201cthe zone of brittle flow\\u201d \\u2013 doesn\\u2019t experience as much pressure. That makes it prone to cracking under stress, which is why you\\u2019ll find deep crevasses near the surface. Imagine a candy bar warping around a curved surface. The top has to stretch farther, faster, so it cracks, while the gooey bottom bends and stretches. Some glacier movement comes from slipping on sediment or a thin layer of water, but most glaciers not at Earth\\u2019s poles move by this process of deforming. &lt;let\\u2019s take a quiet moment here for some awesome mountain/Alaska footage, musical transition&gt; But glaciers are a product of climate, and they change *with* the climate. Mendenhall Glacier is currently slinking along a 13-mile journey to its lowest point, Mendenhall Lake. The terminal edge of a glacier is one of the easiest places to see its movement in action, but it\\u2019s also where we can see how much things are changing. Glaciers never move backwards, and they are always melting. But when mass melts away at the bottom faster than new mass is added up top, they can recede. It takes about 200 years for new ice on Mendenhall to move from the icefield to the lake. It\\u2019s a slow process, but warmer summers combined with less snow in winter are speeding things up. The glacier is melting faster than it\\u2019s growing \\u2013 and it\\u2019s already retreated miles. Just a few decades ago, where I\\u2019m standing was covered in ice. How glaciers move is incredibly cool, but for that to continue, they have to stay that way. Stay curious. If you want to see more of Alaska\\u2019s incredible wild life, watch Wild Alaska Live, a special 3-night live event brought to you by PBS and BBC. Check the description for more info.\"\n        ],\n        \"semantic_type\": \"\",\n        \"description\": \"\"\n      }\n    },\n    {\n      \"column\": \"labels\",\n      \"properties\": {\n        \"dtype\": \"number\",\n        \"std\": 1,\n        \"min\": 0,\n        \"max\": 3,\n        \"num_unique_values\": 4,\n        \"samples\": [\n          1,\n          0,\n          3\n        ],\n        \"semantic_type\": \"\",\n        \"description\": \"\"\n      }\n    }\n  ]\n}",
       "type": "dataframe"
      },
      "text/html": [
       "\n",
       "  <div id=\"df-1cb02deb-1d8a-4036-9026-557730e28ba6\" class=\"colab-df-container\">\n",
       "    <div>\n",
       "<style scoped>\n",
       "    .dataframe tbody tr th:only-of-type {\n",
       "        vertical-align: middle;\n",
       "    }\n",
       "\n",
       "    .dataframe tbody tr th {\n",
       "        vertical-align: top;\n",
       "    }\n",
       "\n",
       "    .dataframe thead th {\n",
       "        text-align: right;\n",
       "    }\n",
       "</style>\n",
       "<table border=\"1\" class=\"dataframe\">\n",
       "  <thead>\n",
       "    <tr style=\"text-align: right;\">\n",
       "      <th></th>\n",
       "      <th>category</th>\n",
       "      <th>text</th>\n",
       "      <th>labels</th>\n",
       "    </tr>\n",
       "  </thead>\n",
       "  <tbody>\n",
       "    <tr>\n",
       "      <th>14103</th>\n",
       "      <td>Other</td>\n",
       "      <td>Cardi B Carpool Karaoke OH, THANK YOU SO MUCH ...</td>\n",
       "      <td>3</td>\n",
       "    </tr>\n",
       "    <tr>\n",
       "      <th>7725</th>\n",
       "      <td>Arts &amp; Crafts</td>\n",
       "      <td>HOW to CROCHET a BEGINNER EASY FLOWER - DIY Ro...</td>\n",
       "      <td>1</td>\n",
       "    </tr>\n",
       "    <tr>\n",
       "      <th>3280</th>\n",
       "      <td>Arts &amp; Crafts</td>\n",
       "      <td>Mummy Dogs ~ Tasty Halloween Dinner Idea ~ Cre...</td>\n",
       "      <td>1</td>\n",
       "    </tr>\n",
       "    <tr>\n",
       "      <th>14122</th>\n",
       "      <td>Home &amp; Lifestyle</td>\n",
       "      <td>Pepper Seedlings, One Pot Herb Garden, and For...</td>\n",
       "      <td>2</td>\n",
       "    </tr>\n",
       "    <tr>\n",
       "      <th>14611</th>\n",
       "      <td>Food &amp; Cooking</td>\n",
       "      <td>The Charleston Benne Wafer *Machine Sounds* &amp;l...</td>\n",
       "      <td>0</td>\n",
       "    </tr>\n",
       "    <tr>\n",
       "      <th>4821</th>\n",
       "      <td>Arts &amp; Crafts</td>\n",
       "      <td>How Do Glaciers Move? Here’s something we all ...</td>\n",
       "      <td>1</td>\n",
       "    </tr>\n",
       "    <tr>\n",
       "      <th>5161</th>\n",
       "      <td>Arts &amp; Crafts</td>\n",
       "      <td>DIY School Supplies! 10 Weird DIY Crafts for B...</td>\n",
       "      <td>1</td>\n",
       "    </tr>\n",
       "    <tr>\n",
       "      <th>6630</th>\n",
       "      <td>Arts &amp; Crafts</td>\n",
       "      <td>Glitter and Tire Sealant - Does it work? I've ...</td>\n",
       "      <td>1</td>\n",
       "    </tr>\n",
       "    <tr>\n",
       "      <th>3508</th>\n",
       "      <td>Other</td>\n",
       "      <td>Will Toy Caps Ignite Gasoline? Hey guys, today...</td>\n",
       "      <td>3</td>\n",
       "    </tr>\n",
       "    <tr>\n",
       "      <th>14700</th>\n",
       "      <td>Food &amp; Cooking</td>\n",
       "      <td>Healthy Green Smoothie with Spinach and Fruit ...</td>\n",
       "      <td>0</td>\n",
       "    </tr>\n",
       "  </tbody>\n",
       "</table>\n",
       "</div>\n",
       "    <div class=\"colab-df-buttons\">\n",
       "\n",
       "  <div class=\"colab-df-container\">\n",
       "    <button class=\"colab-df-convert\" onclick=\"convertToInteractive('df-1cb02deb-1d8a-4036-9026-557730e28ba6')\"\n",
       "            title=\"Convert this dataframe to an interactive table.\"\n",
       "            style=\"display:none;\">\n",
       "\n",
       "  <svg xmlns=\"http://www.w3.org/2000/svg\" height=\"24px\" viewBox=\"0 -960 960 960\">\n",
       "    <path d=\"M120-120v-720h720v720H120Zm60-500h600v-160H180v160Zm220 220h160v-160H400v160Zm0 220h160v-160H400v160ZM180-400h160v-160H180v160Zm440 0h160v-160H620v160ZM180-180h160v-160H180v160Zm440 0h160v-160H620v160Z\"/>\n",
       "  </svg>\n",
       "    </button>\n",
       "\n",
       "  <style>\n",
       "    .colab-df-container {\n",
       "      display:flex;\n",
       "      gap: 12px;\n",
       "    }\n",
       "\n",
       "    .colab-df-convert {\n",
       "      background-color: #E8F0FE;\n",
       "      border: none;\n",
       "      border-radius: 50%;\n",
       "      cursor: pointer;\n",
       "      display: none;\n",
       "      fill: #1967D2;\n",
       "      height: 32px;\n",
       "      padding: 0 0 0 0;\n",
       "      width: 32px;\n",
       "    }\n",
       "\n",
       "    .colab-df-convert:hover {\n",
       "      background-color: #E2EBFA;\n",
       "      box-shadow: 0px 1px 2px rgba(60, 64, 67, 0.3), 0px 1px 3px 1px rgba(60, 64, 67, 0.15);\n",
       "      fill: #174EA6;\n",
       "    }\n",
       "\n",
       "    .colab-df-buttons div {\n",
       "      margin-bottom: 4px;\n",
       "    }\n",
       "\n",
       "    [theme=dark] .colab-df-convert {\n",
       "      background-color: #3B4455;\n",
       "      fill: #D2E3FC;\n",
       "    }\n",
       "\n",
       "    [theme=dark] .colab-df-convert:hover {\n",
       "      background-color: #434B5C;\n",
       "      box-shadow: 0px 1px 3px 1px rgba(0, 0, 0, 0.15);\n",
       "      filter: drop-shadow(0px 1px 2px rgba(0, 0, 0, 0.3));\n",
       "      fill: #FFFFFF;\n",
       "    }\n",
       "  </style>\n",
       "\n",
       "    <script>\n",
       "      const buttonEl =\n",
       "        document.querySelector('#df-1cb02deb-1d8a-4036-9026-557730e28ba6 button.colab-df-convert');\n",
       "      buttonEl.style.display =\n",
       "        google.colab.kernel.accessAllowed ? 'block' : 'none';\n",
       "\n",
       "      async function convertToInteractive(key) {\n",
       "        const element = document.querySelector('#df-1cb02deb-1d8a-4036-9026-557730e28ba6');\n",
       "        const dataTable =\n",
       "          await google.colab.kernel.invokeFunction('convertToInteractive',\n",
       "                                                    [key], {});\n",
       "        if (!dataTable) return;\n",
       "\n",
       "        const docLinkHtml = 'Like what you see? Visit the ' +\n",
       "          '<a target=\"_blank\" href=https://colab.research.google.com/notebooks/data_table.ipynb>data table notebook</a>'\n",
       "          + ' to learn more about interactive tables.';\n",
       "        element.innerHTML = '';\n",
       "        dataTable['output_type'] = 'display_data';\n",
       "        await google.colab.output.renderOutput(dataTable, element);\n",
       "        const docLink = document.createElement('div');\n",
       "        docLink.innerHTML = docLinkHtml;\n",
       "        element.appendChild(docLink);\n",
       "      }\n",
       "    </script>\n",
       "  </div>\n",
       "\n",
       "\n",
       "<div id=\"df-0f9cbc57-17a7-47f7-8c15-01f60eb09f82\">\n",
       "  <button class=\"colab-df-quickchart\" onclick=\"quickchart('df-0f9cbc57-17a7-47f7-8c15-01f60eb09f82')\"\n",
       "            title=\"Suggest charts\"\n",
       "            style=\"display:none;\">\n",
       "\n",
       "<svg xmlns=\"http://www.w3.org/2000/svg\" height=\"24px\"viewBox=\"0 0 24 24\"\n",
       "     width=\"24px\">\n",
       "    <g>\n",
       "        <path d=\"M19 3H5c-1.1 0-2 .9-2 2v14c0 1.1.9 2 2 2h14c1.1 0 2-.9 2-2V5c0-1.1-.9-2-2-2zM9 17H7v-7h2v7zm4 0h-2V7h2v10zm4 0h-2v-4h2v4z\"/>\n",
       "    </g>\n",
       "</svg>\n",
       "  </button>\n",
       "\n",
       "<style>\n",
       "  .colab-df-quickchart {\n",
       "      --bg-color: #E8F0FE;\n",
       "      --fill-color: #1967D2;\n",
       "      --hover-bg-color: #E2EBFA;\n",
       "      --hover-fill-color: #174EA6;\n",
       "      --disabled-fill-color: #AAA;\n",
       "      --disabled-bg-color: #DDD;\n",
       "  }\n",
       "\n",
       "  [theme=dark] .colab-df-quickchart {\n",
       "      --bg-color: #3B4455;\n",
       "      --fill-color: #D2E3FC;\n",
       "      --hover-bg-color: #434B5C;\n",
       "      --hover-fill-color: #FFFFFF;\n",
       "      --disabled-bg-color: #3B4455;\n",
       "      --disabled-fill-color: #666;\n",
       "  }\n",
       "\n",
       "  .colab-df-quickchart {\n",
       "    background-color: var(--bg-color);\n",
       "    border: none;\n",
       "    border-radius: 50%;\n",
       "    cursor: pointer;\n",
       "    display: none;\n",
       "    fill: var(--fill-color);\n",
       "    height: 32px;\n",
       "    padding: 0;\n",
       "    width: 32px;\n",
       "  }\n",
       "\n",
       "  .colab-df-quickchart:hover {\n",
       "    background-color: var(--hover-bg-color);\n",
       "    box-shadow: 0 1px 2px rgba(60, 64, 67, 0.3), 0 1px 3px 1px rgba(60, 64, 67, 0.15);\n",
       "    fill: var(--button-hover-fill-color);\n",
       "  }\n",
       "\n",
       "  .colab-df-quickchart-complete:disabled,\n",
       "  .colab-df-quickchart-complete:disabled:hover {\n",
       "    background-color: var(--disabled-bg-color);\n",
       "    fill: var(--disabled-fill-color);\n",
       "    box-shadow: none;\n",
       "  }\n",
       "\n",
       "  .colab-df-spinner {\n",
       "    border: 2px solid var(--fill-color);\n",
       "    border-color: transparent;\n",
       "    border-bottom-color: var(--fill-color);\n",
       "    animation:\n",
       "      spin 1s steps(1) infinite;\n",
       "  }\n",
       "\n",
       "  @keyframes spin {\n",
       "    0% {\n",
       "      border-color: transparent;\n",
       "      border-bottom-color: var(--fill-color);\n",
       "      border-left-color: var(--fill-color);\n",
       "    }\n",
       "    20% {\n",
       "      border-color: transparent;\n",
       "      border-left-color: var(--fill-color);\n",
       "      border-top-color: var(--fill-color);\n",
       "    }\n",
       "    30% {\n",
       "      border-color: transparent;\n",
       "      border-left-color: var(--fill-color);\n",
       "      border-top-color: var(--fill-color);\n",
       "      border-right-color: var(--fill-color);\n",
       "    }\n",
       "    40% {\n",
       "      border-color: transparent;\n",
       "      border-right-color: var(--fill-color);\n",
       "      border-top-color: var(--fill-color);\n",
       "    }\n",
       "    60% {\n",
       "      border-color: transparent;\n",
       "      border-right-color: var(--fill-color);\n",
       "    }\n",
       "    80% {\n",
       "      border-color: transparent;\n",
       "      border-right-color: var(--fill-color);\n",
       "      border-bottom-color: var(--fill-color);\n",
       "    }\n",
       "    90% {\n",
       "      border-color: transparent;\n",
       "      border-bottom-color: var(--fill-color);\n",
       "    }\n",
       "  }\n",
       "</style>\n",
       "\n",
       "  <script>\n",
       "    async function quickchart(key) {\n",
       "      const quickchartButtonEl =\n",
       "        document.querySelector('#' + key + ' button');\n",
       "      quickchartButtonEl.disabled = true;  // To prevent multiple clicks.\n",
       "      quickchartButtonEl.classList.add('colab-df-spinner');\n",
       "      try {\n",
       "        const charts = await google.colab.kernel.invokeFunction(\n",
       "            'suggestCharts', [key], {});\n",
       "      } catch (error) {\n",
       "        console.error('Error during call to suggestCharts:', error);\n",
       "      }\n",
       "      quickchartButtonEl.classList.remove('colab-df-spinner');\n",
       "      quickchartButtonEl.classList.add('colab-df-quickchart-complete');\n",
       "    }\n",
       "    (() => {\n",
       "      let quickchartButtonEl =\n",
       "        document.querySelector('#df-0f9cbc57-17a7-47f7-8c15-01f60eb09f82 button');\n",
       "      quickchartButtonEl.style.display =\n",
       "        google.colab.kernel.accessAllowed ? 'block' : 'none';\n",
       "    })();\n",
       "  </script>\n",
       "</div>\n",
       "\n",
       "    </div>\n",
       "  </div>\n"
      ],
      "text/plain": [
       "               category                                               text  \\\n",
       "14103             Other  Cardi B Carpool Karaoke OH, THANK YOU SO MUCH ...   \n",
       "7725      Arts & Crafts  HOW to CROCHET a BEGINNER EASY FLOWER - DIY Ro...   \n",
       "3280      Arts & Crafts  Mummy Dogs ~ Tasty Halloween Dinner Idea ~ Cre...   \n",
       "14122  Home & Lifestyle  Pepper Seedlings, One Pot Herb Garden, and For...   \n",
       "14611    Food & Cooking  The Charleston Benne Wafer *Machine Sounds* &l...   \n",
       "4821      Arts & Crafts  How Do Glaciers Move? Here’s something we all ...   \n",
       "5161      Arts & Crafts  DIY School Supplies! 10 Weird DIY Crafts for B...   \n",
       "6630      Arts & Crafts  Glitter and Tire Sealant - Does it work? I've ...   \n",
       "3508              Other  Will Toy Caps Ignite Gasoline? Hey guys, today...   \n",
       "14700    Food & Cooking  Healthy Green Smoothie with Spinach and Fruit ...   \n",
       "\n",
       "       labels  \n",
       "14103       3  \n",
       "7725        1  \n",
       "3280        1  \n",
       "14122       2  \n",
       "14611       0  \n",
       "4821        1  \n",
       "5161        1  \n",
       "6630        1  \n",
       "3508        3  \n",
       "14700       0  "
      ]
     },
     "execution_count": 23,
     "metadata": {},
     "output_type": "execute_result"
    }
   ],
   "source": [
    "df_org = df_org.drop('labels_num', axis=1, errors='ignore')\n",
    "df_org.sample(10)"
   ]
  },
  {
   "cell_type": "code",
   "execution_count": null,
   "metadata": {
    "colab": {
     "base_uri": "https://localhost:8080/",
     "height": 824
    },
    "id": "27adoC7V7J7G",
    "outputId": "d018d00b-643c-4a49-fe20-c171fcccbfed"
   },
   "outputs": [
    {
     "data": {
      "text/plain": [
       "<Axes: ylabel='count'>"
      ]
     },
     "execution_count": 24,
     "metadata": {},
     "output_type": "execute_result"
    },
    {
     "data": {
      "image/png": "[encoded data removed]",
      "text/plain": [
       "<Figure size 1000x1000 with 1 Axes>"
      ]
     },
     "metadata": {},
     "output_type": "display_data"
    }
   ],
   "source": [
    "df_org.category.value_counts().plot(kind='pie', figsize=(10,10))"
   ]
  },
  {
   "cell_type": "code",
   "execution_count": null,
   "metadata": {
    "colab": {
     "base_uri": "https://localhost:8080/",
     "height": 269,
     "referenced_widgets": [
      "a288aa7f60f04128a2d04f290c9064c8",
      "31f7b3af591444ba8c9f44fcaf21370e",
      "94607580ab9d4e70b745c3895c4ec262",
      "fff736678f014291ad146e010fcca781",
      "4ccb1141e8904085832cea2d9980761f",
      "5138d894235c415987a5607efd4a340b",
      "3ec1f2e519ff4902a408baf7f035f29b",
      "3efb4ae7a25348939ffd096f533029f6",
      "69e812b0860640549ed62953cee1c430",
      "95c996c356fd4ca982ec8287584cdd0d",
      "888d420ad7bb4fd69f9646bb8e299c7e",
      "15817273e3464a808232ce4c63427e8b",
      "247c9dd2bd274a5385bb856e8e90e241",
      "d58575da725e495d941dba4bb38e772d",
      "4ebf179e81724caf866444c3de603256",
      "bf452bf3954b4709824bd744b4434f73",
      "13090abb59d640dd96d40087d346b835",
      "bbab506ef6d7428eb426a942d11d01b4",
      "6388809cdf4441f48aed810b11dec242",
      "e339d7b347a5481886f4a80424d1fdda",
      "64c0e78854794a5a8639a94cfa9b78d8",
      "cd66d97c1774451f99233c782a85f8d6",
      "1d88816a7f9041f18975896a8fc48470",
      "583bd1282a6d4c6ab52a8a2c83986926",
      "cf04d2d2cb9d4f9a903649a4ff64f05e",
      "c3251f5706f043b987e78c1f325046f2",
      "f0e1dbdec8094905b4e148161f7eaac7",
      "0ac51db3fb214ebf870fe2a540bbf2d4",
      "79883198944d41d595c7b41d3ec38b3c",
      "416631b366614f4fab5b83decf31fd59",
      "c957c591c6364e629c75b34b22137fd1",
      "9767d00c4b534f32a5f4be93f13cd6c6",
      "0b4151a4e79d457dbfe97a5593fda21f",
      "8a50765f0b084d19832bb86405c6f8f2",
      "e9e54ec0f484475f8963f6d5babca7d0",
      "8d64a5f361a647d38893de785dda87c8",
      "490bffde85a74d01b4a81130f49b5ab2",
      "780858a7861249f5a957c5df25185fa7",
      "7f9765db021e4cf782707fbbc63a6a7a",
      "dcfea69c56274e7080110474a8aa4e2d",
      "0bf1aaffcb14415c9fd6ecb4ccd319c2",
      "754b4231e6574723a7f1bc3412701b75",
      "5a84448441c44649be12a4b385ab0960",
      "0627de1475cd420c916c6800b8a03371"
     ]
    },
    "id": "0RX4CnDz7VgL",
    "outputId": "f84353ba-2892-4dda-e34f-ae58d090e05b"
   },
   "outputs": [
    {
     "name": "stderr",
     "output_type": "stream",
     "text": [
      "/usr/local/lib/python3.10/dist-packages/huggingface_hub/utils/_auth.py:94: UserWarning: \n",
      "The secret `HF_TOKEN` does not exist in your Colab secrets.\n",
      "To authenticate with the Hugging Face Hub, create a token in your settings tab (https://huggingface.co/settings/tokens), set it as secret in your Google Colab and restart your session.\n",
      "You will be able to reuse this secret in all of your notebooks.\n",
      "Please note that authentication is recommended but still optional to access public models or datasets.\n",
      "  warnings.warn(\n"
     ]
    },
    {
     "data": {
      "application/vnd.jupyter.widget-view+json": {
       "model_id": "a288aa7f60f04128a2d04f290c9064c8",
       "version_major": 2,
       "version_minor": 0
      },
      "text/plain": [
       "tokenizer_config.json:   0%|          | 0.00/48.0 [00:00<?, ?B/s]"
      ]
     },
     "metadata": {},
     "output_type": "display_data"
    },
    {
     "data": {
      "application/vnd.jupyter.widget-view+json": {
       "model_id": "15817273e3464a808232ce4c63427e8b",
       "version_major": 2,
       "version_minor": 0
      },
      "text/plain": [
       "vocab.txt:   0%|          | 0.00/232k [00:00<?, ?B/s]"
      ]
     },
     "metadata": {},
     "output_type": "display_data"
    },
    {
     "data": {
      "application/vnd.jupyter.widget-view+json": {
       "model_id": "1d88816a7f9041f18975896a8fc48470",
       "version_major": 2,
       "version_minor": 0
      },
      "text/plain": [
       "tokenizer.json:   0%|          | 0.00/466k [00:00<?, ?B/s]"
      ]
     },
     "metadata": {},
     "output_type": "display_data"
    },
    {
     "data": {
      "application/vnd.jupyter.widget-view+json": {
       "model_id": "8a50765f0b084d19832bb86405c6f8f2",
       "version_major": 2,
       "version_minor": 0
      },
      "text/plain": [
       "config.json:   0%|          | 0.00/570 [00:00<?, ?B/s]"
      ]
     },
     "metadata": {},
     "output_type": "display_data"
    }
   ],
   "source": [
    "tokenizer = BertTokenizerFast.from_pretrained(\"bert-base-uncased\", max_length=512)"
   ]
  },
  {
   "cell_type": "code",
   "execution_count": null,
   "metadata": {
    "colab": {
     "base_uri": "https://localhost:8080/",
     "height": 885,
     "referenced_widgets": [
      "8c5ebce69f7b487bac68f752f58c3895",
      "952e02f522af46eeb3b348069ca3992c",
      "e0bc6c57508e42e48a58900e64d26440",
      "d3b9f13e854243f3abb60eff8a9622d1",
      "216fa1e98c12430b8649a192fd4d7c4d",
      "8e8f40c88c624663838ed292a737a4b8",
      "4f287e41d2c5470c9f03a9b0fd0d83cd",
      "892ccbd2ba844bbb8323026476e15878",
      "37f0d1db188c45b7ade6d0421c2d83c1",
      "6459bf19924e43a0b1a83e54e146ecf7",
      "6b5315b1a99a48d88942e1b71bd21569"
     ]
    },
    "id": "aOJdhBcv7apV",
    "outputId": "7dd9e8ad-2072-40ba-fc0a-929b04f1104d"
   },
   "outputs": [
    {
     "data": {
      "application/vnd.jupyter.widget-view+json": {
       "model_id": "8c5ebce69f7b487bac68f752f58c3895",
       "version_major": 2,
       "version_minor": 0
      },
      "text/plain": [
       "model.safetensors:   0%|          | 0.00/440M [00:00<?, ?B/s]"
      ]
     },
     "metadata": {},
     "output_type": "display_data"
    },
    {
     "name": "stderr",
     "output_type": "stream",
     "text": [
      "Some weights of BertForSequenceClassification were not initialized from the model checkpoint at bert-base-uncased and are newly initialized: ['classifier.bias', 'classifier.weight']\n",
      "You should probably TRAIN this model on a down-stream task to be able to use it for predictions and inference.\n"
     ]
    },
    {
     "data": {
      "text/plain": [
       "BertForSequenceClassification(\n",
       "  (bert): BertModel(\n",
       "    (embeddings): BertEmbeddings(\n",
       "      (word_embeddings): Embedding(30522, 768, padding_idx=0)\n",
       "      (position_embeddings): Embedding(512, 768)\n",
       "      (token_type_embeddings): Embedding(2, 768)\n",
       "      (LayerNorm): LayerNorm((768,), eps=1e-12, elementwise_affine=True)\n",
       "      (dropout): Dropout(p=0.1, inplace=False)\n",
       "    )\n",
       "    (encoder): BertEncoder(\n",
       "      (layer): ModuleList(\n",
       "        (0-11): 12 x BertLayer(\n",
       "          (attention): BertAttention(\n",
       "            (self): BertSdpaSelfAttention(\n",
       "              (query): Linear(in_features=768, out_features=768, bias=True)\n",
       "              (key): Linear(in_features=768, out_features=768, bias=True)\n",
       "              (value): Linear(in_features=768, out_features=768, bias=True)\n",
       "              (dropout): Dropout(p=0.1, inplace=False)\n",
       "            )\n",
       "            (output): BertSelfOutput(\n",
       "              (dense): Linear(in_features=768, out_features=768, bias=True)\n",
       "              (LayerNorm): LayerNorm((768,), eps=1e-12, elementwise_affine=True)\n",
       "              (dropout): Dropout(p=0.1, inplace=False)\n",
       "            )\n",
       "          )\n",
       "          (intermediate): BertIntermediate(\n",
       "            (dense): Linear(in_features=768, out_features=3072, bias=True)\n",
       "            (intermediate_act_fn): GELUActivation()\n",
       "          )\n",
       "          (output): BertOutput(\n",
       "            (dense): Linear(in_features=3072, out_features=768, bias=True)\n",
       "            (LayerNorm): LayerNorm((768,), eps=1e-12, elementwise_affine=True)\n",
       "            (dropout): Dropout(p=0.1, inplace=False)\n",
       "          )\n",
       "        )\n",
       "      )\n",
       "    )\n",
       "    (pooler): BertPooler(\n",
       "      (dense): Linear(in_features=768, out_features=768, bias=True)\n",
       "      (activation): Tanh()\n",
       "    )\n",
       "  )\n",
       "  (dropout): Dropout(p=0.1, inplace=False)\n",
       "  (classifier): Linear(in_features=768, out_features=4, bias=True)\n",
       ")"
      ]
     },
     "execution_count": 26,
     "metadata": {},
     "output_type": "execute_result"
    }
   ],
   "source": [
    "model = BertForSequenceClassification.from_pretrained( \"bert-base-uncased\", num_labels=NUM_LABELS, id2label=id2label, label2id=label2id)\n",
    "model.to(device)"
   ]
  },
  {
   "cell_type": "code",
   "execution_count": null,
   "metadata": {
    "id": "mIO2--6W7dII"
   },
   "outputs": [],
   "source": [
    "SIZE= df_org.shape[0]\n",
    "\n",
    "train_texts= list(df_org.text[:SIZE//2])\n",
    "\n",
    "val_texts=   list(df_org.text[SIZE//2:(3*SIZE)//4 ])\n",
    "\n",
    "test_texts=  list(df_org.text[(3*SIZE)//4:])\n",
    "\n",
    "train_labels= list(df_org.labels[:SIZE//2])\n",
    "\n",
    "val_labels=   list(df_org.labels[SIZE//2:(3*SIZE)//4])\n",
    "\n",
    "test_labels=  list(df_org.labels[(3*SIZE)//4:])"
   ]
  },
  {
   "cell_type": "code",
   "execution_count": null,
   "metadata": {
    "colab": {
     "base_uri": "https://localhost:8080/"
    },
    "id": "eZDxrkZa8GyY",
    "outputId": "c67e10de-708f-4fb6-9bf1-da7e36c590b4"
   },
   "outputs": [
    {
     "data": {
      "text/plain": [
       "6515"
      ]
     },
     "execution_count": 28,
     "metadata": {},
     "output_type": "execute_result"
    }
   ],
   "source": [
    "len(train_texts)"
   ]
  },
  {
   "cell_type": "code",
   "execution_count": null,
   "metadata": {
    "colab": {
     "base_uri": "https://localhost:8080/"
    },
    "id": "RXeq6nU18vZl",
    "outputId": "bb61687d-61cb-4a98-86bb-8fa99f0dca42"
   },
   "outputs": [
    {
     "data": {
      "text/plain": [
       "(6515, 3258, 3258)"
      ]
     },
     "execution_count": 29,
     "metadata": {},
     "output_type": "execute_result"
    }
   ],
   "source": [
    "len(train_texts), len(val_texts), len(test_texts)"
   ]
  },
  {
   "cell_type": "code",
   "execution_count": null,
   "metadata": {
    "id": "Nde-3n2w8xQK"
   },
   "outputs": [],
   "source": [
    "train_encodings = tokenizer(train_texts, truncation=True, padding=True)\n",
    "val_encodings  = tokenizer(val_texts, truncation=True, padding=True)\n",
    "test_encodings = tokenizer(test_texts, truncation=True, padding=True)"
   ]
  },
  {
   "cell_type": "code",
   "execution_count": null,
   "metadata": {
    "id": "7fZaR-ht8zZ9"
   },
   "outputs": [],
   "source": [
    "class DataLoader(Dataset):\n",
    "    \"\"\"\n",
    "    Custom Dataset class for handling tokenized text data and corresponding labels.\n",
    "    Inherits from torch.utils.data.Dataset.\n",
    "    \"\"\"\n",
    "    def __init__(self, encodings, labels):\n",
    "        \"\"\"\n",
    "        Initializes the DataLoader class with encodings and labels.\n",
    "\n",
    "        Args:\n",
    "            encodings (dict): A dictionary containing tokenized input text data\n",
    "                              (e.g., 'input_ids', 'token_type_ids', 'attention_mask').\n",
    "            labels (list): A list of integer labels for the input text data.\n",
    "        \"\"\"\n",
    "        self.encodings = encodings\n",
    "        self.labels = labels\n",
    "\n",
    "    def __getitem__(self, idx):\n",
    "        \"\"\"\n",
    "        Returns a dictionary containing tokenized data and the corresponding label for a given index.\n",
    "\n",
    "        Args:\n",
    "            idx (int): The index of the data item to retrieve.\n",
    "\n",
    "        Returns:\n",
    "            item (dict): A dictionary containing the tokenized data and the corresponding label.\n",
    "        \"\"\"\n",
    "        # Retrieve tokenized data for the given index\n",
    "        item = {key: torch.tensor(val[idx]) for key, val in self.encodings.items()}\n",
    "        # Add the label for the given index to the item dictionary\n",
    "        item['labels'] = torch.tensor(self.labels[idx])\n",
    "        return item\n",
    "\n",
    "    def __len__(self):\n",
    "        \"\"\"\n",
    "        Returns the number of data items in the dataset.\n",
    "\n",
    "        Returns:\n",
    "            (int): The number of data items in the dataset.\n",
    "        \"\"\"\n",
    "        return len(self.labels)"
   ]
  },
  {
   "cell_type": "markdown",
   "metadata": {
    "id": "WTAow8iEcDkS"
   },
   "source": [
    "# Training\n"
   ]
  },
  {
   "cell_type": "code",
   "execution_count": null,
   "metadata": {
    "id": "3CLcdJmq9ND_"
   },
   "outputs": [],
   "source": [
    "train_dataloader = DataLoader(train_encodings, train_labels)\n",
    "\n",
    "val_dataloader = DataLoader(val_encodings, val_labels)\n",
    "\n",
    "test_dataset = DataLoader(test_encodings, test_labels)"
   ]
  },
  {
   "cell_type": "code",
   "execution_count": null,
   "metadata": {
    "id": "LspqtW3U9P1M"
   },
   "outputs": [],
   "source": [
    "from transformers import TrainingArguments, Trainer"
   ]
  },
  {
   "cell_type": "code",
   "execution_count": null,
   "metadata": {
    "id": "0UwvBHS09RnF"
   },
   "outputs": [],
   "source": [
    "from sklearn.metrics import accuracy_score, precision_recall_fscore_support\n",
    "\n",
    "def compute_metrics(pred):\n",
    "    \"\"\"\n",
    "    Computes accuracy, F1, precision, and recall for a given set of predictions.\n",
    "\n",
    "    Args:\n",
    "        pred (obj): An object containing label_ids and predictions attributes.\n",
    "            - label_ids (array-like): A 1D array of true class labels.\n",
    "            - predictions (array-like): A 2D array where each row represents\n",
    "              an observation, and each column represents the probability of\n",
    "              that observation belonging to a certain class.\n",
    "\n",
    "    Returns:\n",
    "        dict: A dictionary containing the following metrics:\n",
    "            - Accuracy (float): The proportion of correctly classified instances.\n",
    "            - F1 (float): The macro F1 score, which is the harmonic mean of precision\n",
    "              and recall. Macro averaging calculates the metric independently for\n",
    "              each class and then takes the average.\n",
    "            - Precision (float): The macro precision, which is the number of true\n",
    "              positives divided by the sum of true positives and false positives.\n",
    "            - Recall (float): The macro recall, which is the number of true positives\n",
    "              divided by the sum of true positives and false negatives.\n",
    "    \"\"\"\n",
    "    # Extract true labels from the input object\n",
    "    labels = pred.label_ids\n",
    "\n",
    "    # Obtain predicted class labels by finding the column index with the maximum probability\n",
    "    preds = pred.predictions.argmax(-1)\n",
    "\n",
    "    # Compute macro precision, recall, and F1 score using sklearn's precision_recall_fscore_support function\n",
    "    precision, recall, f1, _ = precision_recall_fscore_support(labels, preds, average='macro')\n",
    "\n",
    "    # Calculate the accuracy score using sklearn's accuracy_score function\n",
    "    acc = accuracy_score(labels, preds)\n",
    "\n",
    "    # Return the computed metrics as a dictionary\n",
    "    return {\n",
    "        'Accuracy': acc,\n",
    "        'F1': f1,\n",
    "        'Precision': precision,\n",
    "        'Recall': recall\n",
    "    }"
   ]
  },
  {
   "cell_type": "code",
   "execution_count": null,
   "metadata": {
    "colab": {
     "base_uri": "https://localhost:8080/"
    },
    "id": "JW2pibC19Xel",
    "outputId": "645f9c13-5e9a-4bc0-aeab-943665e7ee1f"
   },
   "outputs": [
    {
     "name": "stderr",
     "output_type": "stream",
     "text": [
      "/usr/local/lib/python3.10/dist-packages/transformers/training_args.py:1568: FutureWarning: `evaluation_strategy` is deprecated and will be removed in version 4.46 of 🤗 Transformers. Use `eval_strategy` instead\n",
      "  warnings.warn(\n"
     ]
    }
   ],
   "source": [
    "training_args = TrainingArguments(\n",
    "    # The output directory where the model predictions and checkpoints will be written\n",
    "    output_dir='./TTC4900Model',\n",
    "    do_train=True,\n",
    "    do_eval=True,\n",
    "    #  The number of epochs, defaults to 3.0\n",
    "    num_train_epochs=3,\n",
    "    per_device_train_batch_size=16,\n",
    "    per_device_eval_batch_size=32,\n",
    "    # Number of steps used for a linear warmup\n",
    "    warmup_steps=100,\n",
    "    weight_decay=0.01,\n",
    "    logging_strategy='steps',\n",
    "   # TensorBoard log directory\n",
    "    logging_dir='./multi-class-logs',\n",
    "    logging_steps=50,\n",
    "    evaluation_strategy=\"steps\",\n",
    "    eval_steps=50,\n",
    "    save_strategy=\"steps\",\n",
    "    fp16=True,\n",
    "    load_best_model_at_end=True\n",
    ")"
   ]
  },
  {
   "cell_type": "code",
   "execution_count": null,
   "metadata": {
    "id": "8jpnga529cns"
   },
   "outputs": [],
   "source": [
    "trainer = Trainer(\n",
    "    # the pre-trained model that will be fine-tuned\n",
    "    model=model,\n",
    "     # training arguments that we defined above\n",
    "    args=training_args,\n",
    "    train_dataset=train_dataloader,\n",
    "    eval_dataset=val_dataloader,\n",
    "    compute_metrics= compute_metrics\n",
    ")"
   ]
  },
  {
   "cell_type": "code",
   "execution_count": null,
   "metadata": {
    "colab": {
     "base_uri": "https://localhost:8080/",
     "height": 1000
    },
    "id": "D2155BVF9fNj",
    "outputId": "2a70b19c-0605-4943-d7b5-d69aea7b9d24"
   },
   "outputs": [
    {
     "name": "stderr",
     "output_type": "stream",
     "text": [
      "\u001b[34m\u001b[1mwandb\u001b[0m: \u001b[33mWARNING\u001b[0m The `run_name` is currently set to the same value as `TrainingArguments.output_dir`. If this was not intended, please specify a different run name by setting the `TrainingArguments.run_name` parameter.\n",
      "\u001b[34m\u001b[1mwandb\u001b[0m: Using wandb-core as the SDK backend.  Please refer to https://wandb.me/wandb-core for more information.\n"
     ]
    },
    {
     "data": {
      "application/javascript": [
       "\n",
       "        window._wandbApiKey = new Promise((resolve, reject) => {\n",
       "            function loadScript(url) {\n",
       "            return new Promise(function(resolve, reject) {\n",
       "                let newScript = document.createElement(\"script\");\n",
       "                newScript.onerror = reject;\n",
       "                newScript.onload = resolve;\n",
       "                document.body.appendChild(newScript);\n",
       "                newScript.src = url;\n",
       "            });\n",
       "            }\n",
       "            loadScript(\"https://cdn.jsdelivr.net/npm/postmate/build/postmate.min.js\").then(() => {\n",
       "            const iframe = document.createElement('iframe')\n",
       "            iframe.style.cssText = \"width:0;height:0;border:none\"\n",
       "            document.body.appendChild(iframe)\n",
       "            const handshake = new Postmate({\n",
       "                container: iframe,\n",
       "                url: 'https://wandb.ai/authorize'\n",
       "            });\n",
       "            const timeout = setTimeout(() => reject(\"Couldn't auto authenticate\"), 5000)\n",
       "            handshake.then(function(child) {\n",
       "                child.on('authorize', data => {\n",
       "                    clearTimeout(timeout)\n",
       "                    resolve(data)\n",
       "                });\n",
       "            });\n",
       "            })\n",
       "        });\n",
       "    "
      ],
      "text/plain": [
       "<IPython.core.display.Javascript object>"
      ]
     },
     "metadata": {},
     "output_type": "display_data"
    },
    {
     "name": "stderr",
     "output_type": "stream",
     "text": [
      "\u001b[34m\u001b[1mwandb\u001b[0m: Logging into wandb.ai. (Learn how to deploy a W&B server locally: https://wandb.me/wandb-server)\n",
      "\u001b[34m\u001b[1mwandb\u001b[0m: You can find your API key in your browser here: https://wandb.ai/authorize\n",
      "wandb: Paste an API key from your profile and hit enter, or press ctrl+c to quit:"
     ]
    },
    {
     "name": "stdout",
     "output_type": "stream",
     "text": [
      " ··········\n"
     ]
    },
    {
     "name": "stderr",
     "output_type": "stream",
     "text": [
      "\u001b[34m\u001b[1mwandb\u001b[0m: Appending key for api.wandb.ai to your netrc file: /root/.netrc\n"
     ]
    },
    {
     "data": {
      "text/html": [
       "Tracking run with wandb version 0.18.7"
      ],
      "text/plain": [
       "<IPython.core.display.HTML object>"
      ]
     },
     "metadata": {},
     "output_type": "display_data"
    },
    {
     "data": {
      "text/html": [
       "Run data is saved locally in <code>/content/wandb/run-20241130_131259-h7k14ecj</code>"
      ],
      "text/plain": [
       "<IPython.core.display.HTML object>"
      ]
     },
     "metadata": {},
     "output_type": "display_data"
    },
    {
     "data": {
      "text/html": [
       "Syncing run <strong><a href='https://wandb.ai/sujalrajput10-manipal-university/huggingface/runs/h7k14ecj' target=\"_blank\">./TTC4900Model</a></strong> to <a href='https://wandb.ai/sujalrajput10-manipal-university/huggingface' target=\"_blank\">Weights & Biases</a> (<a href='https://wandb.me/developer-guide' target=\"_blank\">docs</a>)<br/>"
      ],
      "text/plain": [
       "<IPython.core.display.HTML object>"
      ]
     },
     "metadata": {},
     "output_type": "display_data"
    },
    {
     "data": {
      "text/html": [
       " View project at <a href='https://wandb.ai/sujalrajput10-manipal-university/huggingface' target=\"_blank\">https://wandb.ai/sujalrajput10-manipal-university/huggingface</a>"
      ],
      "text/plain": [
       "<IPython.core.display.HTML object>"
      ]
     },
     "metadata": {},
     "output_type": "display_data"
    },
    {
     "data": {
      "text/html": [
       " View run at <a href='https://wandb.ai/sujalrajput10-manipal-university/huggingface/runs/h7k14ecj' target=\"_blank\">https://wandb.ai/sujalrajput10-manipal-university/huggingface/runs/h7k14ecj</a>"
      ],
      "text/plain": [
       "<IPython.core.display.HTML object>"
      ]
     },
     "metadata": {},
     "output_type": "display_data"
    },
    {
     "data": {
      "text/html": [
       "\n",
       "    <div>\n",
       "      \n",
       "      <progress value='1224' max='1224' style='width:300px; height:20px; vertical-align: middle;'></progress>\n",
       "      [1224/1224 18:12, Epoch 3/3]\n",
       "    </div>\n",
       "    <table border=\"1\" class=\"dataframe\">\n",
       "  <thead>\n",
       " <tr style=\"text-align: left;\">\n",
       "      <th>Step</th>\n",
       "      <th>Training Loss</th>\n",
       "      <th>Validation Loss</th>\n",
       "      <th>Accuracy</th>\n",
       "      <th>F1</th>\n",
       "      <th>Precision</th>\n",
       "      <th>Recall</th>\n",
       "    </tr>\n",
       "  </thead>\n",
       "  <tbody>\n",
       "    <tr>\n",
       "      <td>50</td>\n",
       "      <td>1.248200</td>\n",
       "      <td>1.844402</td>\n",
       "      <td>0.074893</td>\n",
       "      <td>0.106087</td>\n",
       "      <td>0.121032</td>\n",
       "      <td>0.094427</td>\n",
       "    </tr>\n",
       "    <tr>\n",
       "      <td>100</td>\n",
       "      <td>0.927000</td>\n",
       "      <td>1.237280</td>\n",
       "      <td>0.475752</td>\n",
       "      <td>0.375812</td>\n",
       "      <td>0.434117</td>\n",
       "      <td>0.379456</td>\n",
       "    </tr>\n",
       "    <tr>\n",
       "      <td>150</td>\n",
       "      <td>0.908000</td>\n",
       "      <td>1.490864</td>\n",
       "      <td>0.363720</td>\n",
       "      <td>0.334513</td>\n",
       "      <td>0.450434</td>\n",
       "      <td>0.281290</td>\n",
       "    </tr>\n",
       "    <tr>\n",
       "      <td>200</td>\n",
       "      <td>0.845300</td>\n",
       "      <td>1.510398</td>\n",
       "      <td>0.450890</td>\n",
       "      <td>0.365643</td>\n",
       "      <td>0.447968</td>\n",
       "      <td>0.360406</td>\n",
       "    </tr>\n",
       "    <tr>\n",
       "      <td>250</td>\n",
       "      <td>0.800700</td>\n",
       "      <td>1.490033</td>\n",
       "      <td>0.434622</td>\n",
       "      <td>0.376350</td>\n",
       "      <td>0.461613</td>\n",
       "      <td>0.345653</td>\n",
       "    </tr>\n",
       "    <tr>\n",
       "      <td>300</td>\n",
       "      <td>0.845300</td>\n",
       "      <td>1.570412</td>\n",
       "      <td>0.428177</td>\n",
       "      <td>0.346381</td>\n",
       "      <td>0.451412</td>\n",
       "      <td>0.353094</td>\n",
       "    </tr>\n",
       "    <tr>\n",
       "      <td>350</td>\n",
       "      <td>0.775700</td>\n",
       "      <td>1.421043</td>\n",
       "      <td>0.492940</td>\n",
       "      <td>0.402579</td>\n",
       "      <td>0.451168</td>\n",
       "      <td>0.384722</td>\n",
       "    </tr>\n",
       "    <tr>\n",
       "      <td>400</td>\n",
       "      <td>0.825400</td>\n",
       "      <td>1.571661</td>\n",
       "      <td>0.403622</td>\n",
       "      <td>0.342998</td>\n",
       "      <td>0.454564</td>\n",
       "      <td>0.339889</td>\n",
       "    </tr>\n",
       "    <tr>\n",
       "      <td>450</td>\n",
       "      <td>0.692700</td>\n",
       "      <td>1.337221</td>\n",
       "      <td>0.515347</td>\n",
       "      <td>0.418662</td>\n",
       "      <td>0.462789</td>\n",
       "      <td>0.396606</td>\n",
       "    </tr>\n",
       "    <tr>\n",
       "      <td>500</td>\n",
       "      <td>0.685600</td>\n",
       "      <td>1.477929</td>\n",
       "      <td>0.465009</td>\n",
       "      <td>0.383666</td>\n",
       "      <td>0.464607</td>\n",
       "      <td>0.371455</td>\n",
       "    </tr>\n",
       "    <tr>\n",
       "      <td>550</td>\n",
       "      <td>0.650500</td>\n",
       "      <td>1.645375</td>\n",
       "      <td>0.407305</td>\n",
       "      <td>0.364387</td>\n",
       "      <td>0.471589</td>\n",
       "      <td>0.330525</td>\n",
       "    </tr>\n",
       "    <tr>\n",
       "      <td>600</td>\n",
       "      <td>0.633000</td>\n",
       "      <td>1.480548</td>\n",
       "      <td>0.475445</td>\n",
       "      <td>0.390461</td>\n",
       "      <td>0.451385</td>\n",
       "      <td>0.379015</td>\n",
       "    </tr>\n",
       "    <tr>\n",
       "      <td>650</td>\n",
       "      <td>0.676900</td>\n",
       "      <td>1.325576</td>\n",
       "      <td>0.484960</td>\n",
       "      <td>0.388169</td>\n",
       "      <td>0.450207</td>\n",
       "      <td>0.385969</td>\n",
       "    </tr>\n",
       "    <tr>\n",
       "      <td>700</td>\n",
       "      <td>0.608400</td>\n",
       "      <td>1.546592</td>\n",
       "      <td>0.461019</td>\n",
       "      <td>0.378706</td>\n",
       "      <td>0.456312</td>\n",
       "      <td>0.369697</td>\n",
       "    </tr>\n",
       "    <tr>\n",
       "      <td>750</td>\n",
       "      <td>0.609900</td>\n",
       "      <td>1.441840</td>\n",
       "      <td>0.488950</td>\n",
       "      <td>0.393842</td>\n",
       "      <td>0.461133</td>\n",
       "      <td>0.385986</td>\n",
       "    </tr>\n",
       "    <tr>\n",
       "      <td>800</td>\n",
       "      <td>0.714600</td>\n",
       "      <td>1.470376</td>\n",
       "      <td>0.458257</td>\n",
       "      <td>0.383674</td>\n",
       "      <td>0.463175</td>\n",
       "      <td>0.371014</td>\n",
       "    </tr>\n",
       "    <tr>\n",
       "      <td>850</td>\n",
       "      <td>0.568700</td>\n",
       "      <td>1.591285</td>\n",
       "      <td>0.479128</td>\n",
       "      <td>0.390309</td>\n",
       "      <td>0.461092</td>\n",
       "      <td>0.384848</td>\n",
       "    </tr>\n",
       "    <tr>\n",
       "      <td>900</td>\n",
       "      <td>0.421100</td>\n",
       "      <td>1.640260</td>\n",
       "      <td>0.485881</td>\n",
       "      <td>0.400585</td>\n",
       "      <td>0.465437</td>\n",
       "      <td>0.379494</td>\n",
       "    </tr>\n",
       "    <tr>\n",
       "      <td>950</td>\n",
       "      <td>0.442900</td>\n",
       "      <td>1.631865</td>\n",
       "      <td>0.475752</td>\n",
       "      <td>0.393276</td>\n",
       "      <td>0.455546</td>\n",
       "      <td>0.373471</td>\n",
       "    </tr>\n",
       "    <tr>\n",
       "      <td>1000</td>\n",
       "      <td>0.451200</td>\n",
       "      <td>1.712374</td>\n",
       "      <td>0.460098</td>\n",
       "      <td>0.380215</td>\n",
       "      <td>0.447802</td>\n",
       "      <td>0.368461</td>\n",
       "    </tr>\n",
       "    <tr>\n",
       "      <td>1050</td>\n",
       "      <td>0.409500</td>\n",
       "      <td>1.758383</td>\n",
       "      <td>0.457950</td>\n",
       "      <td>0.382404</td>\n",
       "      <td>0.454713</td>\n",
       "      <td>0.367882</td>\n",
       "    </tr>\n",
       "    <tr>\n",
       "      <td>1100</td>\n",
       "      <td>0.487300</td>\n",
       "      <td>1.706405</td>\n",
       "      <td>0.462247</td>\n",
       "      <td>0.384402</td>\n",
       "      <td>0.455427</td>\n",
       "      <td>0.371285</td>\n",
       "    </tr>\n",
       "    <tr>\n",
       "      <td>1150</td>\n",
       "      <td>0.424700</td>\n",
       "      <td>1.704875</td>\n",
       "      <td>0.464395</td>\n",
       "      <td>0.387541</td>\n",
       "      <td>0.458515</td>\n",
       "      <td>0.367923</td>\n",
       "    </tr>\n",
       "    <tr>\n",
       "      <td>1200</td>\n",
       "      <td>0.392800</td>\n",
       "      <td>1.742818</td>\n",
       "      <td>0.455187</td>\n",
       "      <td>0.380994</td>\n",
       "      <td>0.454337</td>\n",
       "      <td>0.364480</td>\n",
       "    </tr>\n",
       "  </tbody>\n",
       "</table><p>"
      ],
      "text/plain": [
       "<IPython.core.display.HTML object>"
      ]
     },
     "metadata": {},
     "output_type": "display_data"
    },
    {
     "name": "stderr",
     "output_type": "stream",
     "text": [
      "/usr/local/lib/python3.10/dist-packages/sklearn/metrics/_classification.py:1531: UndefinedMetricWarning: Precision is ill-defined and being set to 0.0 in labels with no predicted samples. Use `zero_division` parameter to control this behavior.\n",
      "  _warn_prf(average, modifier, f\"{metric.capitalize()} is\", len(result))\n",
      "/usr/local/lib/python3.10/dist-packages/sklearn/metrics/_classification.py:1531: UndefinedMetricWarning: Recall is ill-defined and being set to 0.0 in labels with no true samples. Use `zero_division` parameter to control this behavior.\n",
      "  _warn_prf(average, modifier, f\"{metric.capitalize()} is\", len(result))\n",
      "/usr/local/lib/python3.10/dist-packages/sklearn/metrics/_classification.py:1531: UndefinedMetricWarning: Recall is ill-defined and being set to 0.0 in labels with no true samples. Use `zero_division` parameter to control this behavior.\n",
      "  _warn_prf(average, modifier, f\"{metric.capitalize()} is\", len(result))\n",
      "/usr/local/lib/python3.10/dist-packages/sklearn/metrics/_classification.py:1531: UndefinedMetricWarning: Recall is ill-defined and being set to 0.0 in labels with no true samples. Use `zero_division` parameter to control this behavior.\n",
      "  _warn_prf(average, modifier, f\"{metric.capitalize()} is\", len(result))\n",
      "/usr/local/lib/python3.10/dist-packages/sklearn/metrics/_classification.py:1531: UndefinedMetricWarning: Recall is ill-defined and being set to 0.0 in labels with no true samples. Use `zero_division` parameter to control this behavior.\n",
      "  _warn_prf(average, modifier, f\"{metric.capitalize()} is\", len(result))\n",
      "/usr/local/lib/python3.10/dist-packages/sklearn/metrics/_classification.py:1531: UndefinedMetricWarning: Recall is ill-defined and being set to 0.0 in labels with no true samples. Use `zero_division` parameter to control this behavior.\n",
      "  _warn_prf(average, modifier, f\"{metric.capitalize()} is\", len(result))\n",
      "/usr/local/lib/python3.10/dist-packages/sklearn/metrics/_classification.py:1531: UndefinedMetricWarning: Recall is ill-defined and being set to 0.0 in labels with no true samples. Use `zero_division` parameter to control this behavior.\n",
      "  _warn_prf(average, modifier, f\"{metric.capitalize()} is\", len(result))\n",
      "/usr/local/lib/python3.10/dist-packages/sklearn/metrics/_classification.py:1531: UndefinedMetricWarning: Recall is ill-defined and being set to 0.0 in labels with no true samples. Use `zero_division` parameter to control this behavior.\n",
      "  _warn_prf(average, modifier, f\"{metric.capitalize()} is\", len(result))\n",
      "/usr/local/lib/python3.10/dist-packages/sklearn/metrics/_classification.py:1531: UndefinedMetricWarning: Recall is ill-defined and being set to 0.0 in labels with no true samples. Use `zero_division` parameter to control this behavior.\n",
      "  _warn_prf(average, modifier, f\"{metric.capitalize()} is\", len(result))\n",
      "/usr/local/lib/python3.10/dist-packages/sklearn/metrics/_classification.py:1531: UndefinedMetricWarning: Recall is ill-defined and being set to 0.0 in labels with no true samples. Use `zero_division` parameter to control this behavior.\n",
      "  _warn_prf(average, modifier, f\"{metric.capitalize()} is\", len(result))\n",
      "/usr/local/lib/python3.10/dist-packages/sklearn/metrics/_classification.py:1531: UndefinedMetricWarning: Recall is ill-defined and being set to 0.0 in labels with no true samples. Use `zero_division` parameter to control this behavior.\n",
      "  _warn_prf(average, modifier, f\"{metric.capitalize()} is\", len(result))\n",
      "/usr/local/lib/python3.10/dist-packages/sklearn/metrics/_classification.py:1531: UndefinedMetricWarning: Recall is ill-defined and being set to 0.0 in labels with no true samples. Use `zero_division` parameter to control this behavior.\n",
      "  _warn_prf(average, modifier, f\"{metric.capitalize()} is\", len(result))\n",
      "/usr/local/lib/python3.10/dist-packages/sklearn/metrics/_classification.py:1531: UndefinedMetricWarning: Recall is ill-defined and being set to 0.0 in labels with no true samples. Use `zero_division` parameter to control this behavior.\n",
      "  _warn_prf(average, modifier, f\"{metric.capitalize()} is\", len(result))\n",
      "/usr/local/lib/python3.10/dist-packages/sklearn/metrics/_classification.py:1531: UndefinedMetricWarning: Recall is ill-defined and being set to 0.0 in labels with no true samples. Use `zero_division` parameter to control this behavior.\n",
      "  _warn_prf(average, modifier, f\"{metric.capitalize()} is\", len(result))\n",
      "/usr/local/lib/python3.10/dist-packages/sklearn/metrics/_classification.py:1531: UndefinedMetricWarning: Recall is ill-defined and being set to 0.0 in labels with no true samples. Use `zero_division` parameter to control this behavior.\n",
      "  _warn_prf(average, modifier, f\"{metric.capitalize()} is\", len(result))\n",
      "/usr/local/lib/python3.10/dist-packages/sklearn/metrics/_classification.py:1531: UndefinedMetricWarning: Recall is ill-defined and being set to 0.0 in labels with no true samples. Use `zero_division` parameter to control this behavior.\n",
      "  _warn_prf(average, modifier, f\"{metric.capitalize()} is\", len(result))\n",
      "/usr/local/lib/python3.10/dist-packages/sklearn/metrics/_classification.py:1531: UndefinedMetricWarning: Recall is ill-defined and being set to 0.0 in labels with no true samples. Use `zero_division` parameter to control this behavior.\n",
      "  _warn_prf(average, modifier, f\"{metric.capitalize()} is\", len(result))\n",
      "/usr/local/lib/python3.10/dist-packages/sklearn/metrics/_classification.py:1531: UndefinedMetricWarning: Recall is ill-defined and being set to 0.0 in labels with no true samples. Use `zero_division` parameter to control this behavior.\n",
      "  _warn_prf(average, modifier, f\"{metric.capitalize()} is\", len(result))\n",
      "/usr/local/lib/python3.10/dist-packages/sklearn/metrics/_classification.py:1531: UndefinedMetricWarning: Recall is ill-defined and being set to 0.0 in labels with no true samples. Use `zero_division` parameter to control this behavior.\n",
      "  _warn_prf(average, modifier, f\"{metric.capitalize()} is\", len(result))\n",
      "/usr/local/lib/python3.10/dist-packages/sklearn/metrics/_classification.py:1531: UndefinedMetricWarning: Recall is ill-defined and being set to 0.0 in labels with no true samples. Use `zero_division` parameter to control this behavior.\n",
      "  _warn_prf(average, modifier, f\"{metric.capitalize()} is\", len(result))\n",
      "/usr/local/lib/python3.10/dist-packages/sklearn/metrics/_classification.py:1531: UndefinedMetricWarning: Recall is ill-defined and being set to 0.0 in labels with no true samples. Use `zero_division` parameter to control this behavior.\n",
      "  _warn_prf(average, modifier, f\"{metric.capitalize()} is\", len(result))\n",
      "/usr/local/lib/python3.10/dist-packages/sklearn/metrics/_classification.py:1531: UndefinedMetricWarning: Recall is ill-defined and being set to 0.0 in labels with no true samples. Use `zero_division` parameter to control this behavior.\n",
      "  _warn_prf(average, modifier, f\"{metric.capitalize()} is\", len(result))\n",
      "/usr/local/lib/python3.10/dist-packages/sklearn/metrics/_classification.py:1531: UndefinedMetricWarning: Recall is ill-defined and being set to 0.0 in labels with no true samples. Use `zero_division` parameter to control this behavior.\n",
      "  _warn_prf(average, modifier, f\"{metric.capitalize()} is\", len(result))\n",
      "/usr/local/lib/python3.10/dist-packages/sklearn/metrics/_classification.py:1531: UndefinedMetricWarning: Recall is ill-defined and being set to 0.0 in labels with no true samples. Use `zero_division` parameter to control this behavior.\n",
      "  _warn_prf(average, modifier, f\"{metric.capitalize()} is\", len(result))\n",
      "/usr/local/lib/python3.10/dist-packages/sklearn/metrics/_classification.py:1531: UndefinedMetricWarning: Recall is ill-defined and being set to 0.0 in labels with no true samples. Use `zero_division` parameter to control this behavior.\n",
      "  _warn_prf(average, modifier, f\"{metric.capitalize()} is\", len(result))\n"
     ]
    },
    {
     "data": {
      "text/plain": [
       "TrainOutput(global_step=1224, training_loss=0.6626870265973159, metrics={'train_runtime': 1119.9739, 'train_samples_per_second': 17.451, 'train_steps_per_second': 1.093, 'total_flos': 5142597921976320.0, 'train_loss': 0.6626870265973159, 'epoch': 3.0})"
      ]
     },
     "execution_count": 37,
     "metadata": {},
     "output_type": "execute_result"
    }
   ],
   "source": [
    "trainer.train()"
   ]
  },
  {
   "cell_type": "code",
   "execution_count": null,
   "metadata": {
    "colab": {
     "base_uri": "https://localhost:8080/",
     "height": 218
    },
    "id": "0XOtOuwIIgke",
    "outputId": "7e555cb0-86a1-4c45-adc1-9a4c838ceff0"
   },
   "outputs": [
    {
     "data": {
      "text/html": [
       "\n",
       "    <div>\n",
       "      \n",
       "      <progress value='408' max='204' style='width:300px; height:20px; vertical-align: middle;'></progress>\n",
       "      [204/204 01:31]\n",
       "    </div>\n",
       "    "
      ],
      "text/plain": [
       "<IPython.core.display.HTML object>"
      ]
     },
     "metadata": {},
     "output_type": "display_data"
    },
    {
     "name": "stderr",
     "output_type": "stream",
     "text": [
      "/usr/local/lib/python3.10/dist-packages/sklearn/metrics/_classification.py:1531: UndefinedMetricWarning: Recall is ill-defined and being set to 0.0 in labels with no true samples. Use `zero_division` parameter to control this behavior.\n",
      "  _warn_prf(average, modifier, f\"{metric.capitalize()} is\", len(result))\n"
     ]
    },
    {
     "data": {
      "application/vnd.google.colaboratory.intrinsic+json": {
       "summary": "{\n  \"name\": \"pd\",\n  \"rows\": 3,\n  \"fields\": [\n    {\n      \"column\": \"eval_loss\",\n      \"properties\": {\n        \"dtype\": \"number\",\n        \"std\": 0.48615279456525806,\n        \"min\": 0.6012201309204102,\n        \"max\": 1.4779289960861206,\n        \"num_unique_values\": 3,\n        \"samples\": [\n          0.6012201309204102,\n          1.4779289960861206,\n          1.40367591381073\n        ],\n        \"semantic_type\": \"\",\n        \"description\": \"\"\n      }\n    },\n    {\n      \"column\": \"eval_Accuracy\",\n      \"properties\": {\n        \"dtype\": \"number\",\n        \"std\": 0.1761333300355869,\n        \"min\": 0.46500920810313073,\n        \"max\": 0.7894090560245587,\n        \"num_unique_values\": 3,\n        \"samples\": [\n          0.7894090560245587,\n          0.46500920810313073,\n          0.5082872928176796\n        ],\n        \"semantic_type\": \"\",\n        \"description\": \"\"\n      }\n    },\n    {\n      \"column\": \"eval_F1\",\n      \"properties\": {\n        \"dtype\": \"number\",\n        \"std\": 0.17394017516921523,\n        \"min\": 0.38366602196581034,\n        \"max\": 0.726279028547767,\n        \"num_unique_values\": 3,\n        \"samples\": [\n          0.726279028547767,\n          0.38366602196581034,\n          0.5027441861644348\n        ],\n        \"semantic_type\": \"\",\n        \"description\": \"\"\n      }\n    },\n    {\n      \"column\": \"eval_Precision\",\n      \"properties\": {\n        \"dtype\": \"number\",\n        \"std\": 0.1475273206266442,\n        \"min\": 0.4646065632633395,\n        \"max\": 0.7480514943158215,\n        \"num_unique_values\": 3,\n        \"samples\": [\n          0.7480514943158215,\n          0.4646065632633395,\n          0.5353560812016416\n        ],\n        \"semantic_type\": \"\",\n        \"description\": \"\"\n      }\n    },\n    {\n      \"column\": \"eval_Recall\",\n      \"properties\": {\n        \"dtype\": \"number\",\n        \"std\": 0.17522411173677732,\n        \"min\": 0.3714553417850589,\n        \"max\": 0.7144151821243261,\n        \"num_unique_values\": 3,\n        \"samples\": [\n          0.7144151821243261,\n          0.3714553417850589,\n          0.6053402211941322\n        ],\n        \"semantic_type\": \"\",\n        \"description\": \"\"\n      }\n    }\n  ]\n}",
       "type": "dataframe"
      },
      "text/html": [
       "\n",
       "  <div id=\"df-852d5d45-b48f-4d20-b822-550c04aba7e6\" class=\"colab-df-container\">\n",
       "    <div>\n",
       "<style scoped>\n",
       "    .dataframe tbody tr th:only-of-type {\n",
       "        vertical-align: middle;\n",
       "    }\n",
       "\n",
       "    .dataframe tbody tr th {\n",
       "        vertical-align: top;\n",
       "    }\n",
       "\n",
       "    .dataframe thead th {\n",
       "        text-align: right;\n",
       "    }\n",
       "</style>\n",
       "<table border=\"1\" class=\"dataframe\">\n",
       "  <thead>\n",
       "    <tr style=\"text-align: right;\">\n",
       "      <th></th>\n",
       "      <th>eval_loss</th>\n",
       "      <th>eval_Accuracy</th>\n",
       "      <th>eval_F1</th>\n",
       "      <th>eval_Precision</th>\n",
       "      <th>eval_Recall</th>\n",
       "    </tr>\n",
       "  </thead>\n",
       "  <tbody>\n",
       "    <tr>\n",
       "      <th>train</th>\n",
       "      <td>0.601220</td>\n",
       "      <td>0.789409</td>\n",
       "      <td>0.726279</td>\n",
       "      <td>0.748051</td>\n",
       "      <td>0.714415</td>\n",
       "    </tr>\n",
       "    <tr>\n",
       "      <th>val</th>\n",
       "      <td>1.477929</td>\n",
       "      <td>0.465009</td>\n",
       "      <td>0.383666</td>\n",
       "      <td>0.464607</td>\n",
       "      <td>0.371455</td>\n",
       "    </tr>\n",
       "    <tr>\n",
       "      <th>test</th>\n",
       "      <td>1.403676</td>\n",
       "      <td>0.508287</td>\n",
       "      <td>0.502744</td>\n",
       "      <td>0.535356</td>\n",
       "      <td>0.605340</td>\n",
       "    </tr>\n",
       "  </tbody>\n",
       "</table>\n",
       "</div>\n",
       "    <div class=\"colab-df-buttons\">\n",
       "\n",
       "  <div class=\"colab-df-container\">\n",
       "    <button class=\"colab-df-convert\" onclick=\"convertToInteractive('df-852d5d45-b48f-4d20-b822-550c04aba7e6')\"\n",
       "            title=\"Convert this dataframe to an interactive table.\"\n",
       "            style=\"display:none;\">\n",
       "\n",
       "  <svg xmlns=\"http://www.w3.org/2000/svg\" height=\"24px\" viewBox=\"0 -960 960 960\">\n",
       "    <path d=\"M120-120v-720h720v720H120Zm60-500h600v-160H180v160Zm220 220h160v-160H400v160Zm0 220h160v-160H400v160ZM180-400h160v-160H180v160Zm440 0h160v-160H620v160ZM180-180h160v-160H180v160Zm440 0h160v-160H620v160Z\"/>\n",
       "  </svg>\n",
       "    </button>\n",
       "\n",
       "  <style>\n",
       "    .colab-df-container {\n",
       "      display:flex;\n",
       "      gap: 12px;\n",
       "    }\n",
       "\n",
       "    .colab-df-convert {\n",
       "      background-color: #E8F0FE;\n",
       "      border: none;\n",
       "      border-radius: 50%;\n",
       "      cursor: pointer;\n",
       "      display: none;\n",
       "      fill: #1967D2;\n",
       "      height: 32px;\n",
       "      padding: 0 0 0 0;\n",
       "      width: 32px;\n",
       "    }\n",
       "\n",
       "    .colab-df-convert:hover {\n",
       "      background-color: #E2EBFA;\n",
       "      box-shadow: 0px 1px 2px rgba(60, 64, 67, 0.3), 0px 1px 3px 1px rgba(60, 64, 67, 0.15);\n",
       "      fill: #174EA6;\n",
       "    }\n",
       "\n",
       "    .colab-df-buttons div {\n",
       "      margin-bottom: 4px;\n",
       "    }\n",
       "\n",
       "    [theme=dark] .colab-df-convert {\n",
       "      background-color: #3B4455;\n",
       "      fill: #D2E3FC;\n",
       "    }\n",
       "\n",
       "    [theme=dark] .colab-df-convert:hover {\n",
       "      background-color: #434B5C;\n",
       "      box-shadow: 0px 1px 3px 1px rgba(0, 0, 0, 0.15);\n",
       "      filter: drop-shadow(0px 1px 2px rgba(0, 0, 0, 0.3));\n",
       "      fill: #FFFFFF;\n",
       "    }\n",
       "  </style>\n",
       "\n",
       "    <script>\n",
       "      const buttonEl =\n",
       "        document.querySelector('#df-852d5d45-b48f-4d20-b822-550c04aba7e6 button.colab-df-convert');\n",
       "      buttonEl.style.display =\n",
       "        google.colab.kernel.accessAllowed ? 'block' : 'none';\n",
       "\n",
       "      async function convertToInteractive(key) {\n",
       "        const element = document.querySelector('#df-852d5d45-b48f-4d20-b822-550c04aba7e6');\n",
       "        const dataTable =\n",
       "          await google.colab.kernel.invokeFunction('convertToInteractive',\n",
       "                                                    [key], {});\n",
       "        if (!dataTable) return;\n",
       "\n",
       "        const docLinkHtml = 'Like what you see? Visit the ' +\n",
       "          '<a target=\"_blank\" href=https://colab.research.google.com/notebooks/data_table.ipynb>data table notebook</a>'\n",
       "          + ' to learn more about interactive tables.';\n",
       "        element.innerHTML = '';\n",
       "        dataTable['output_type'] = 'display_data';\n",
       "        await google.colab.output.renderOutput(dataTable, element);\n",
       "        const docLink = document.createElement('div');\n",
       "        docLink.innerHTML = docLinkHtml;\n",
       "        element.appendChild(docLink);\n",
       "      }\n",
       "    </script>\n",
       "  </div>\n",
       "\n",
       "\n",
       "<div id=\"df-e02404bf-09c3-4a40-8fbc-c4da63af45ea\">\n",
       "  <button class=\"colab-df-quickchart\" onclick=\"quickchart('df-e02404bf-09c3-4a40-8fbc-c4da63af45ea')\"\n",
       "            title=\"Suggest charts\"\n",
       "            style=\"display:none;\">\n",
       "\n",
       "<svg xmlns=\"http://www.w3.org/2000/svg\" height=\"24px\"viewBox=\"0 0 24 24\"\n",
       "     width=\"24px\">\n",
       "    <g>\n",
       "        <path d=\"M19 3H5c-1.1 0-2 .9-2 2v14c0 1.1.9 2 2 2h14c1.1 0 2-.9 2-2V5c0-1.1-.9-2-2-2zM9 17H7v-7h2v7zm4 0h-2V7h2v10zm4 0h-2v-4h2v4z\"/>\n",
       "    </g>\n",
       "</svg>\n",
       "  </button>\n",
       "\n",
       "<style>\n",
       "  .colab-df-quickchart {\n",
       "      --bg-color: #E8F0FE;\n",
       "      --fill-color: #1967D2;\n",
       "      --hover-bg-color: #E2EBFA;\n",
       "      --hover-fill-color: #174EA6;\n",
       "      --disabled-fill-color: #AAA;\n",
       "      --disabled-bg-color: #DDD;\n",
       "  }\n",
       "\n",
       "  [theme=dark] .colab-df-quickchart {\n",
       "      --bg-color: #3B4455;\n",
       "      --fill-color: #D2E3FC;\n",
       "      --hover-bg-color: #434B5C;\n",
       "      --hover-fill-color: #FFFFFF;\n",
       "      --disabled-bg-color: #3B4455;\n",
       "      --disabled-fill-color: #666;\n",
       "  }\n",
       "\n",
       "  .colab-df-quickchart {\n",
       "    background-color: var(--bg-color);\n",
       "    border: none;\n",
       "    border-radius: 50%;\n",
       "    cursor: pointer;\n",
       "    display: none;\n",
       "    fill: var(--fill-color);\n",
       "    height: 32px;\n",
       "    padding: 0;\n",
       "    width: 32px;\n",
       "  }\n",
       "\n",
       "  .colab-df-quickchart:hover {\n",
       "    background-color: var(--hover-bg-color);\n",
       "    box-shadow: 0 1px 2px rgba(60, 64, 67, 0.3), 0 1px 3px 1px rgba(60, 64, 67, 0.15);\n",
       "    fill: var(--button-hover-fill-color);\n",
       "  }\n",
       "\n",
       "  .colab-df-quickchart-complete:disabled,\n",
       "  .colab-df-quickchart-complete:disabled:hover {\n",
       "    background-color: var(--disabled-bg-color);\n",
       "    fill: var(--disabled-fill-color);\n",
       "    box-shadow: none;\n",
       "  }\n",
       "\n",
       "  .colab-df-spinner {\n",
       "    border: 2px solid var(--fill-color);\n",
       "    border-color: transparent;\n",
       "    border-bottom-color: var(--fill-color);\n",
       "    animation:\n",
       "      spin 1s steps(1) infinite;\n",
       "  }\n",
       "\n",
       "  @keyframes spin {\n",
       "    0% {\n",
       "      border-color: transparent;\n",
       "      border-bottom-color: var(--fill-color);\n",
       "      border-left-color: var(--fill-color);\n",
       "    }\n",
       "    20% {\n",
       "      border-color: transparent;\n",
       "      border-left-color: var(--fill-color);\n",
       "      border-top-color: var(--fill-color);\n",
       "    }\n",
       "    30% {\n",
       "      border-color: transparent;\n",
       "      border-left-color: var(--fill-color);\n",
       "      border-top-color: var(--fill-color);\n",
       "      border-right-color: var(--fill-color);\n",
       "    }\n",
       "    40% {\n",
       "      border-color: transparent;\n",
       "      border-right-color: var(--fill-color);\n",
       "      border-top-color: var(--fill-color);\n",
       "    }\n",
       "    60% {\n",
       "      border-color: transparent;\n",
       "      border-right-color: var(--fill-color);\n",
       "    }\n",
       "    80% {\n",
       "      border-color: transparent;\n",
       "      border-right-color: var(--fill-color);\n",
       "      border-bottom-color: var(--fill-color);\n",
       "    }\n",
       "    90% {\n",
       "      border-color: transparent;\n",
       "      border-bottom-color: var(--fill-color);\n",
       "    }\n",
       "  }\n",
       "</style>\n",
       "\n",
       "  <script>\n",
       "    async function quickchart(key) {\n",
       "      const quickchartButtonEl =\n",
       "        document.querySelector('#' + key + ' button');\n",
       "      quickchartButtonEl.disabled = true;  // To prevent multiple clicks.\n",
       "      quickchartButtonEl.classList.add('colab-df-spinner');\n",
       "      try {\n",
       "        const charts = await google.colab.kernel.invokeFunction(\n",
       "            'suggestCharts', [key], {});\n",
       "      } catch (error) {\n",
       "        console.error('Error during call to suggestCharts:', error);\n",
       "      }\n",
       "      quickchartButtonEl.classList.remove('colab-df-spinner');\n",
       "      quickchartButtonEl.classList.add('colab-df-quickchart-complete');\n",
       "    }\n",
       "    (() => {\n",
       "      let quickchartButtonEl =\n",
       "        document.querySelector('#df-e02404bf-09c3-4a40-8fbc-c4da63af45ea button');\n",
       "      quickchartButtonEl.style.display =\n",
       "        google.colab.kernel.accessAllowed ? 'block' : 'none';\n",
       "    })();\n",
       "  </script>\n",
       "</div>\n",
       "\n",
       "    </div>\n",
       "  </div>\n"
      ],
      "text/plain": [
       "       eval_loss  eval_Accuracy   eval_F1  eval_Precision  eval_Recall\n",
       "train   0.601220       0.789409  0.726279        0.748051     0.714415\n",
       "val     1.477929       0.465009  0.383666        0.464607     0.371455\n",
       "test    1.403676       0.508287  0.502744        0.535356     0.605340"
      ]
     },
     "execution_count": 38,
     "metadata": {},
     "output_type": "execute_result"
    }
   ],
   "source": [
    "q=[trainer.evaluate(eval_dataset=df_org) for df_org in [train_dataloader, val_dataloader, test_dataset]]\n",
    "\n",
    "pd.DataFrame(q, index=[\"train\",\"val\",\"test\"]).iloc[:,:5]"
   ]
  },
  {
   "cell_type": "code",
   "execution_count": null,
   "metadata": {
    "id": "y8nqaGbJJzBb"
   },
   "outputs": [],
   "source": [
    "from transformers import DistilBertForSequenceClassification, DistilBertTokenizerFast"
   ]
  },
  {
   "cell_type": "code",
   "execution_count": null,
   "metadata": {
    "id": "kHJmSXiTRrvS"
   },
   "outputs": [],
   "source": [
    "def predict(text):\n",
    "    \"\"\"\n",
    "    Predicts the class label for a given input text\n",
    "\n",
    "    Args:\n",
    "        text (str): The input text for which the class label needs to be predicted.\n",
    "\n",
    "    Returns:\n",
    "        probs (torch.Tensor): Class probabilities for the input text.\n",
    "        pred_label_idx (torch.Tensor): The index of the predicted class label.\n",
    "        pred_label (str): The predicted class label.\n",
    "    \"\"\"\n",
    "    # Tokenize the input text and move tensors to the GPU if available\n",
    "    inputs = tokenizer(text, padding=True, truncation=True, max_length=512, return_tensors=\"pt\").to(\"cuda\")\n",
    "\n",
    "    # Get model output (logits)\n",
    "    outputs = model(**inputs)\n",
    "\n",
    "    probs = outputs[0].softmax(1)\n",
    "    \"\"\" Explanation outputs: The BERT model returns a tuple containing the output logits (and possibly other elements depending on the model configuration). In this case, the output logits are the first element in the tuple, which is why we access it using outputs[0].\n",
    "\n",
    "    outputs[0]: This is a tensor containing the raw output logits for each class. The shape of the tensor is (batch_size, num_classes) where batch_size is the number of input samples (in this case, 1, as we are predicting for a single input text) and num_classes is the number of target classes.\n",
    "\n",
    "    softmax(1): The softmax function is applied along dimension 1 (the class dimension) to convert the raw logits into class probabilities. Softmax normalizes the logits so that they sum to 1, making them interpretable as probabilities. \"\"\"\n",
    "\n",
    "    # Get the index of the class with the highest probability\n",
    "    # argmax() finds the index of the maximum value in the tensor along a specified dimension.\n",
    "    # By default, if no dimension is specified, it returns the index of the maximum value in the flattened tensor.\n",
    "    pred_label_idx = probs.argmax()\n",
    "\n",
    "    # Now map the predicted class index to the actual class label\n",
    "    # Since pred_label_idx is a tensor containing a single value (the predicted class index),\n",
    "    # the .item() method is used to extract the value as a scalar\n",
    "    pred_label = model.config.id2label[pred_label_idx.item()]\n",
    "\n",
    "    return probs, pred_label_idx, pred_label"
   ]
  },
  {
   "cell_type": "markdown",
   "metadata": {
    "id": "Zi0P-0OobqQn"
   },
   "source": [
    "## Output"
   ]
  },
  {
   "cell_type": "code",
   "execution_count": null,
   "metadata": {
    "id": "9ze0U5HwbpQ1"
   },
   "outputs": [],
   "source": []
  },
  {
   "cell_type": "code",
   "execution_count": null,
   "metadata": {
    "colab": {
     "base_uri": "https://localhost:8080/"
    },
    "id": "LW5O1N8cRucP",
    "outputId": "a6a8543c-1d57-4248-afa5-d14e4db601a8"
   },
   "outputs": [
    {
     "data": {
      "text/plain": [
       "(tensor([[0.9352, 0.0315, 0.0042, 0.0291]], device='cuda:0',\n",
       "        grad_fn=<SoftmaxBackward0>),\n",
       " tensor(0, device='cuda:0'),\n",
       " 'Food & Cooking')"
      ]
     },
     "execution_count": 42,
     "metadata": {},
     "output_type": "execute_result"
    }
   ],
   "source": [
    "# Test with a an example text in Turkish\n",
    "text = \"Incredible Egg Cooking School - Scrambled\"\n",
    "# \"Machine Learning itself is moving towards more and more automated\"\n",
    "predict(text)"
   ]
  },
  {
   "cell_type": "code",
   "execution_count": null,
   "metadata": {
    "colab": {
     "base_uri": "https://localhost:8080/"
    },
    "id": "4A810REFRwkK",
    "outputId": "dbff1439-2bc9-4496-ec5d-f097893f92e3"
   },
   "outputs": [
    {
     "data": {
      "text/plain": [
       "(tensor([[0.0278, 0.8452, 0.0304, 0.0965]], device='cuda:0',\n",
       "        grad_fn=<SoftmaxBackward0>),\n",
       " tensor(1, device='cuda:0'),\n",
       " 'Arts & Crafts')"
      ]
     },
     "execution_count": 43,
     "metadata": {},
     "output_type": "execute_result"
    }
   ],
   "source": [
    "# Test with a an example text in Turkish\n",
    "text = \"making a drawing with crayons\"\n",
    "# \"Machine Learning itself is moving towards more and more automated\"\n",
    "predict(text)"
   ]
  },
  {
   "cell_type": "code",
   "execution_count": null,
   "metadata": {
    "colab": {
     "base_uri": "https://localhost:8080/"
    },
    "id": "FCNwvN1TSRy4",
    "outputId": "c2dc090c-563a-44b3-e731-05fe44f7b7ab"
   },
   "outputs": [
    {
     "data": {
      "text/plain": [
       "(tensor([[0.0486, 0.6588, 0.0504, 0.2421]], device='cuda:0',\n",
       "        grad_fn=<SoftmaxBackward0>),\n",
       " tensor(1, device='cuda:0'),\n",
       " 'Arts & Crafts')"
      ]
     },
     "execution_count": 44,
     "metadata": {},
     "output_type": "execute_result"
    }
   ],
   "source": [
    "# Test with a an example text in Turkish\n",
    "text = \"making a drawing with water colurs\"\n",
    "# \"Machine Learning itself is moving towards more and more automated\"\n",
    "predict(text)"
   ]
  },
  {
   "cell_type": "markdown",
   "metadata": {
    "id": "tpkpOEYgbu7G"
   },
   "source": [
    "# Saving model\n",
    "\n"
   ]
  },
  {
   "cell_type": "code",
   "execution_count": null,
   "metadata": {
    "colab": {
     "base_uri": "https://localhost:8080/"
    },
    "id": "TLMaK1MgTDOd",
    "outputId": "e600eac6-335f-4f38-d66d-9525f7ca0f8d"
   },
   "outputs": [
    {
     "data": {
      "text/plain": [
       "('classification-model/tokenizer_config.json',\n",
       " 'classification-model/special_tokens_map.json',\n",
       " 'classification-model/vocab.txt',\n",
       " 'classification-model/added_tokens.json',\n",
       " 'classification-model/tokenizer.json')"
      ]
     },
     "execution_count": 45,
     "metadata": {},
     "output_type": "execute_result"
    }
   ],
   "source": [
    "model_path = \"classification-model\"\n",
    "trainer.save_model(model_path)\n",
    "tokenizer.save_pretrained(model_path)"
   ]
  },
  {
   "cell_type": "code",
   "execution_count": null,
   "metadata": {
    "colab": {
     "base_uri": "https://localhost:8080/",
     "height": 34
    },
    "id": "4tbGgnlaUAZ-",
    "outputId": "a9665f20-41e6-4e43-dd9f-ee79bff03bed"
   },
   "outputs": [
    {
     "data": {
      "application/javascript": [
       "\n",
       "    async function download(id, filename, size) {\n",
       "      if (!google.colab.kernel.accessAllowed) {\n",
       "        return;\n",
       "      }\n",
       "      const div = document.createElement('div');\n",
       "      const label = document.createElement('label');\n",
       "      label.textContent = `Downloading \"${filename}\": `;\n",
       "      div.appendChild(label);\n",
       "      const progress = document.createElement('progress');\n",
       "      progress.max = size;\n",
       "      div.appendChild(progress);\n",
       "      document.body.appendChild(div);\n",
       "\n",
       "      const buffers = [];\n",
       "      let downloaded = 0;\n",
       "\n",
       "      const channel = await google.colab.kernel.comms.open(id);\n",
       "      // Send a message to notify the kernel that we're ready.\n",
       "      channel.send({})\n",
       "\n",
       "      for await (const message of channel.messages) {\n",
       "        // Send a message to notify the kernel that we're ready.\n",
       "        channel.send({})\n",
       "        if (message.buffers) {\n",
       "          for (const buffer of message.buffers) {\n",
       "            buffers.push(buffer);\n",
       "            downloaded += buffer.byteLength;\n",
       "            progress.value = downloaded;\n",
       "          }\n",
       "        }\n",
       "      }\n",
       "      const blob = new Blob(buffers, {type: 'application/binary'});\n",
       "      const a = document.createElement('a');\n",
       "      a.href = window.URL.createObjectURL(blob);\n",
       "      a.download = filename;\n",
       "      div.appendChild(a);\n",
       "      a.click();\n",
       "      div.remove();\n",
       "    }\n",
       "  "
      ],
      "text/plain": [
       "<IPython.core.display.Javascript object>"
      ]
     },
     "metadata": {},
     "output_type": "display_data"
    },
    {
     "data": {
      "application/javascript": [
       "download(\"download_eae985ae-8a82-4050-b0cc-a02162ee86e2\", \"classification-model.zip\", 405908682)"
      ],
      "text/plain": [
       "<IPython.core.display.Javascript object>"
      ]
     },
     "metadata": {},
     "output_type": "display_data"
    }
   ],
   "source": [
    "import shutil\n",
    "\n",
    "# Create a zip file of the saved model folder\n",
    "shutil.make_archive(model_path, 'zip', model_path)\n",
    "\n",
    "# The model is now zipped. To download it, you can create a download link:\n",
    "from google.colab import files\n",
    "files.download(f'{model_path}.zip')\n"
   ]
  },
  {
   "cell_type": "code",
   "execution_count": null,
   "metadata": {
    "colab": {
     "base_uri": "https://localhost:8080/"
    },
    "id": "cs1kEIyQUOGc",
    "outputId": "ce276380-b70e-4b91-bd40-b2fcd0fec2ab"
   },
   "outputs": [
    {
     "name": "stdout",
     "output_type": "stream",
     "text": [
      "Mounted at /content/drive\n"
     ]
    },
    {
     "data": {
      "text/plain": [
       "('/content/drive/My Drive/classification-model/tokenizer_config.json',\n",
       " '/content/drive/My Drive/classification-model/special_tokens_map.json',\n",
       " '/content/drive/My Drive/classification-model/vocab.txt',\n",
       " '/content/drive/My Drive/classification-model/added_tokens.json',\n",
       " '/content/drive/My Drive/classification-model/tokenizer.json')"
      ]
     },
     "execution_count": 47,
     "metadata": {},
     "output_type": "execute_result"
    }
   ],
   "source": [
    "from google.colab import drive\n",
    "drive.mount('/content/drive')\n",
    "\n",
    "# Define the path to your Google Drive folder\n",
    "drive_path = \"/content/drive/My Drive/classification-model\"  # Change to the desired folder\n",
    "\n",
    "# Save the model and tokenizer to Google Drive\n",
    "trainer.save_model(drive_path)\n",
    "tokenizer.save_pretrained(drive_path)\n"
   ]
  },
  {
   "cell_type": "code",
   "execution_count": null,
   "metadata": {
    "id": "Iey0chh4VGpN"
   },
   "outputs": [],
   "source": [
    "model_path = '/content/classification-model'"
   ]
  },
  {
   "cell_type": "code",
   "execution_count": null,
   "metadata": {
    "colab": {
     "base_uri": "https://localhost:8080/"
    },
    "id": "PxpkFgtqUoLt",
    "outputId": "6b6a27eb-2bf4-4934-b8fc-a96ab2a6d2a0"
   },
   "outputs": [
    {
     "name": "stderr",
     "output_type": "stream",
     "text": [
      "Hardware accelerator e.g. GPU is available in the environment, but no `device` argument is passed to the `Pipeline` object. Model will be on CPU.\n"
     ]
    }
   ],
   "source": [
    "model = BertForSequenceClassification.from_pretrained(model_path)\n",
    "tokenizer= BertTokenizerFast.from_pretrained(model_path)\n",
    "nlp= pipeline(\"sentiment-analysis\", model=model, tokenizer=tokenizer)"
   ]
  },
  {
   "cell_type": "code",
   "execution_count": null,
   "metadata": {
    "colab": {
     "base_uri": "https://localhost:8080/"
    },
    "id": "u5DoxX6CVK6-",
    "outputId": "c9779ef1-86e5-430b-bd7f-1af26440f46b"
   },
   "outputs": [
    {
     "data": {
      "text/plain": [
       "[{'label': 'Arts & Crafts', 'score': 0.6589387059211731}]"
      ]
     },
     "execution_count": 51,
     "metadata": {},
     "output_type": "execute_result"
    }
   ],
   "source": [
    "nlp(\"making a drawing with water colurs\")"
   ]
  },
  {
   "cell_type": "code",
   "execution_count": null,
   "metadata": {
    "colab": {
     "base_uri": "https://localhost:8080/"
    },
    "id": "V8reZTZBVYFS",
    "outputId": "7e69428f-9e84-45c3-8a89-65177a89b6eb"
   },
   "outputs": [
    {
     "data": {
      "text/plain": [
       "[{'label': 'Food & Cooking', 'score': 0.9309812188148499}]"
      ]
     },
     "execution_count": 52,
     "metadata": {},
     "output_type": "execute_result"
    }
   ],
   "source": [
    "nlp(\"How to cook mashed potato in 30 minutes\")"
   ]
  },
  {
   "cell_type": "code",
   "execution_count": null,
   "metadata": {
    "id": "zCPoKmmrVmQS"
   },
   "outputs": [],
   "source": []
  }
 ],
 "metadata": {
  "accelerator": "GPU",
  "colab": {
   "gpuType": "T4",
   "provenance": []
  },
  "kernelspec": {
   "display_name": "Python 3",
   "name": "python3"
  },
  "language_info": {
   "name": "python"
  }
 },
 "nbformat": 4,
 "nbformat_minor": 0
}
